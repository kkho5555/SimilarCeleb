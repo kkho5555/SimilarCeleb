{
 "cells": [
  {
   "cell_type": "code",
   "execution_count": 3,
   "metadata": {},
   "outputs": [
    {
     "output_type": "stream",
     "name": "stdout",
     "text": "1  파일 길이 :  7500\n1  :  ./train//1\\1_0000.jpg\n1  :  ./train//1\\1_0700.jpg\n1  :  ./train//1\\1_1400.jpg\n1  :  ./train//1\\1_2100.jpg\n1  :  ./train//1\\1_2800.jpg\n1  :  ./train//1\\1_3500.jpg\n1  :  ./train//1\\1_4200.jpg\n1  :  ./train//1\\1_4900.jpg\n1  :  ./train//1\\1_5600.jpg\n1  :  ./train//1\\1_6300.jpg\n1  :  ./train//1\\1_7000.jpg\n2  파일 길이 :  7498\n2  :  ./train//2\\2_0000.jpg\n2  :  ./train//2\\2_0702.jpg\n2  :  ./train//2\\2_1402.jpg\n2  :  ./train//2\\2_2102.jpg\n2  :  ./train//2\\2_2802.jpg\n2  :  ./train//2\\2_3502.jpg\n2  :  ./train//2\\2_4202.jpg\n2  :  ./train//2\\2_4902.jpg\n2  :  ./train//2\\2_5602.jpg\n2  :  ./train//2\\2_6302.jpg\n2  :  ./train//2\\2_7002.jpg\n3  파일 길이 :  7500\n3  :  ./train//3\\3_0000.jpg\n3  :  ./train//3\\3_0700.jpg\n3  :  ./train//3\\3_1400.jpg\n3  :  ./train//3\\3_2100.jpg\n3  :  ./train//3\\3_2800.jpg\n3  :  ./train//3\\3_3500.jpg\n3  :  ./train//3\\3_4200.jpg\n3  :  ./train//3\\3_4900.jpg\n3  :  ./train//3\\3_5600.jpg\n3  :  ./train//3\\3_6300.jpg\n3  :  ./train//3\\3_7000.jpg\n4  파일 길이 :  7500\n4  :  ./train//4\\4_0000.jpg\n4  :  ./train//4\\4_0700.jpg\n4  :  ./train//4\\4_1400.jpg\n4  :  ./train//4\\4_2100.jpg\n4  :  ./train//4\\4_2800.jpg\n4  :  ./train//4\\4_3500.jpg\n4  :  ./train//4\\4_4200.jpg\n4  :  ./train//4\\4_4900.jpg\n4  :  ./train//4\\4_5600.jpg\n4  :  ./train//4\\4_6300.jpg\n4  :  ./train//4\\4_7000.jpg\n5  파일 길이 :  7498\n5  :  ./train//5\\5_0000.jpg\n5  :  ./train//5\\5_0702.jpg\n5  :  ./train//5\\5_1402.jpg\n5  :  ./train//5\\5_2102.jpg\n5  :  ./train//5\\5_2802.jpg\n5  :  ./train//5\\5_3502.jpg\n5  :  ./train//5\\5_4202.jpg\n5  :  ./train//5\\5_4902.jpg\n5  :  ./train//5\\5_5602.jpg\n5  :  ./train//5\\5_6302.jpg\n5  :  ./train//5\\5_7002.jpg\n6  파일 길이 :  7500\n6  :  ./train//6\\6_0000.jpg\n6  :  ./train//6\\6_0700.jpg\n6  :  ./train//6\\6_1400.jpg\n6  :  ./train//6\\6_2100.jpg\n6  :  ./train//6\\6_2800.jpg\n6  :  ./train//6\\6_3500.jpg\n6  :  ./train//6\\6_4200.jpg\n6  :  ./train//6\\6_4900.jpg\n6  :  ./train//6\\6_5600.jpg\n6  :  ./train//6\\6_6300.jpg\n6  :  ./train//6\\6_7000.jpg\n7  파일 길이 :  7500\n7  :  ./train//7\\7_0000.jpg\n7  :  ./train//7\\7_0700.jpg\n7  :  ./train//7\\7_1400.jpg\n7  :  ./train//7\\7_2100.jpg\n7  :  ./train//7\\7_2800.jpg\n7  :  ./train//7\\7_3500.jpg\n7  :  ./train//7\\7_4200.jpg\n7  :  ./train//7\\7_4900.jpg\n7  :  ./train//7\\7_5600.jpg\n7  :  ./train//7\\7_6300.jpg\n7  :  ./train//7\\7_7000.jpg\n8  파일 길이 :  7500\n8  :  ./train//8\\8_0000.jpg\n8  :  ./train//8\\8_0700.jpg\n8  :  ./train//8\\8_1400.jpg\n8  :  ./train//8\\8_2100.jpg\n8  :  ./train//8\\8_2800.jpg\n8  :  ./train//8\\8_3500.jpg\n8  :  ./train//8\\8_4200.jpg\n8  :  ./train//8\\8_4900.jpg\n8  :  ./train//8\\8_5600.jpg\n8  :  ./train//8\\8_6300.jpg\n8  :  ./train//8\\8_7000.jpg\n9  파일 길이 :  7500\n9  :  ./train//9\\9_0000.jpg\n9  :  ./train//9\\9_0700.jpg\n9  :  ./train//9\\9_1400.jpg\n9  :  ./train//9\\9_2100.jpg\n9  :  ./train//9\\9_2800.jpg\n9  :  ./train//9\\9_3500.jpg\n9  :  ./train//9\\9_4200.jpg\n9  :  ./train//9\\9_4900.jpg\n9  :  ./train//9\\9_5600.jpg\n9  :  ./train//9\\9_6300.jpg\n9  :  ./train//9\\9_7000.jpg\n10  파일 길이 :  7500\n10  :  ./train//10\\10_0000.jpg\n10  :  ./train//10\\10_0700.jpg\n10  :  ./train//10\\10_1400.jpg\n10  :  ./train//10\\10_2100.jpg\n10  :  ./train//10\\10_2800.jpg\n10  :  ./train//10\\10_3500.jpg\n10  :  ./train//10\\10_4200.jpg\n10  :  ./train//10\\10_4900.jpg\n10  :  ./train//10\\10_5600.jpg\n10  :  ./train//10\\10_6300.jpg\n10  :  ./train//10\\10_7000.jpg\n11  파일 길이 :  7500\n11  :  ./train//11\\11_0000.jpg\n11  :  ./train//11\\11_0700.jpg\n11  :  ./train//11\\11_1400.jpg\n11  :  ./train//11\\11_2100.jpg\n11  :  ./train//11\\11_2800.jpg\n11  :  ./train//11\\11_3500.jpg\n11  :  ./train//11\\11_4200.jpg\n11  :  ./train//11\\11_4900.jpg\n11  :  ./train//11\\11_5600.jpg\n11  :  ./train//11\\11_6300.jpg\n11  :  ./train//11\\11_7000.jpg\n12  파일 길이 :  7500\n12  :  ./train//12\\12_0000.jpg\n12  :  ./train//12\\12_0700.jpg\n12  :  ./train//12\\12_1400.jpg\n12  :  ./train//12\\12_2100.jpg\n12  :  ./train//12\\12_2800.jpg\n12  :  ./train//12\\12_3500.jpg\n12  :  ./train//12\\12_4200.jpg\n12  :  ./train//12\\12_4900.jpg\n12  :  ./train//12\\12_5600.jpg\n12  :  ./train//12\\12_6300.jpg\n12  :  ./train//12\\12_7000.jpg\n13  파일 길이 :  7500\n13  :  ./train//13\\1.jpg\n13  :  ./train//13\\tri_0_1438.jpg\n13  :  ./train//13\\tri_0_2300.jpg\n13  :  ./train//13\\tri_0_3187.jpg\n13  :  ./train//13\\tri_0_4063.jpg\n13  :  ./train//13\\tri_0_4942.jpg\n13  :  ./train//13\\tri_0_5820.jpg\n13  :  ./train//13\\tri_0_6705.jpg\n13  :  ./train//13\\tri_0_7564.jpg\n13  :  ./train//13\\tri_0_8464.jpg\n13  :  ./train//13\\tri_0_9354.jpg\n14  파일 길이 :  7500\n14  :  ./train//14\\0.jpg\n14  :  ./train//14\\tri_0_1159.jpg\n14  :  ./train//14\\tri_0_2043.jpg\n14  :  ./train//14\\tri_0_2949.jpg\n14  :  ./train//14\\tri_0_3862.jpg\n14  :  ./train//14\\tri_0_4751.jpg\n14  :  ./train//14\\tri_0_5673.jpg\n14  :  ./train//14\\tri_0_6577.jpg\n14  :  ./train//14\\tri_0_7457.jpg\n14  :  ./train//14\\tri_0_8382.jpg\n14  :  ./train//14\\tri_0_9318.jpg\n15  파일 길이 :  7500\n15  :  ./train//15\\0.jpg\n15  :  ./train//15\\729.jpg\n15  :  ./train//15\\tri_0_1766.jpg\n15  :  ./train//15\\tri_0_2692.jpg\n15  :  ./train//15\\tri_0_3603.jpg\n15  :  ./train//15\\tri_0_4516.jpg\n15  :  ./train//15\\tri_0_5442.jpg\n15  :  ./train//15\\tri_0_639.jpg\n15  :  ./train//15\\tri_0_7364.jpg\n15  :  ./train//15\\tri_0_8295.jpg\n15  :  ./train//15\\tri_0_9268.jpg\n16  파일 길이 :  7500\n16  :  ./train//16\\0.jpg\n16  :  ./train//16\\tri_0_1054.jpg\n16  :  ./train//16\\tri_0_1950.jpg\n16  :  ./train//16\\tri_0_2871.jpg\n16  :  ./train//16\\tri_0_3809.jpg\n16  :  ./train//16\\tri_0_4747.jpg\n16  :  ./train//16\\tri_0_5657.jpg\n16  :  ./train//16\\tri_0_6577.jpg\n16  :  ./train//16\\tri_0_7493.jpg\n16  :  ./train//16\\tri_0_8387.jpg\n16  :  ./train//16\\tri_0_9307.jpg\n17  파일 길이 :  7500\n17  :  ./train//17\\1.jpg\n17  :  ./train//17\\tri_0_1633.jpg\n17  :  ./train//17\\tri_0_2494.jpg\n17  :  ./train//17\\tri_0_3336.jpg\n17  :  ./train//17\\tri_0_420.jpg\n17  :  ./train//17\\tri_0_5046.jpg\n17  :  ./train//17\\tri_0_5918.jpg\n17  :  ./train//17\\tri_0_6779.jpg\n17  :  ./train//17\\tri_0_7638.jpg\n17  :  ./train//17\\tri_0_8501.jpg\n17  :  ./train//17\\tri_0_9378.jpg\n18  파일 길이 :  7500\n18  :  ./train//18\\1.jpg\n18  :  ./train//18\\tri_0_110.jpg\n18  :  ./train//18\\tri_0_2028.jpg\n18  :  ./train//18\\tri_0_2948.jpg\n18  :  ./train//18\\tri_0_3858.jpg\n18  :  ./train//18\\tri_0_4766.jpg\n18  :  ./train//18\\tri_0_5668.jpg\n18  :  ./train//18\\tri_0_6577.jpg\n18  :  ./train//18\\tri_0_7474.jpg\n18  :  ./train//18\\tri_0_8378.jpg\n18  :  ./train//18\\tri_0_9298.jpg\n19  파일 길이 :  7500\n19  :  ./train//19\\1.jpg\n19  :  ./train//19\\tri_0_1410.jpg\n19  :  ./train//19\\tri_0_2302.jpg\n19  :  ./train//19\\tri_0_321.jpg\n19  :  ./train//19\\tri_0_4107.jpg\n19  :  ./train//19\\tri_0_4979.jpg\n19  :  ./train//19\\tri_0_5868.jpg\n19  :  ./train//19\\tri_0_6779.jpg\n19  :  ./train//19\\tri_0_7630.jpg\n19  :  ./train//19\\tri_0_8493.jpg\n19  :  ./train//19\\tri_0_9348.jpg\n20  파일 길이 :  7500\n20  :  ./train//20\\1.jpg\n20  :  ./train//20\\tri_0_1362.jpg\n20  :  ./train//20\\tri_0_2247.jpg\n20  :  ./train//20\\tri_0_3126.jpg\n20  :  ./train//20\\tri_0_3976.jpg\n20  :  ./train//20\\tri_0_4851.jpg\n20  :  ./train//20\\tri_0_5761.jpg\n20  :  ./train//20\\tri_0_6683.jpg\n20  :  ./train//20\\tri_0_7615.jpg\n20  :  ./train//20\\tri_0_8467.jpg\n20  :  ./train//20\\tri_0_9367.jpg\nok 149996\n"
    }
   ],
   "source": [
    "from PIL import Image\n",
    "import os, glob, numpy as np\n",
    "from sklearn.model_selection import train_test_split\n",
    "\n",
    "caltech_dir = \"./train/\"\n",
    "categories = [str(i) for i in range(1,21)]\n",
    "nb_classes = len(categories)\n",
    "\n",
    "image_w = 64\n",
    "image_h = 64\n",
    "\n",
    "pixels = image_h * image_w * 3\n",
    "\n",
    "X = []\n",
    "y = []\n",
    "\n",
    "for idx, cat in enumerate(categories):\n",
    "    \n",
    "    #one-hot 돌리기.\n",
    "    label = [0 for i in range(nb_classes)]\n",
    "    label[idx] = 1\n",
    "\n",
    "    image_dir = caltech_dir + \"/\" + cat\n",
    "    files = glob.glob(image_dir+\"/*.jpg\")\n",
    "    print(cat, \" 파일 길이 : \", len(files))\n",
    "    for i, f in enumerate(files):\n",
    "        img = Image.open(f)\n",
    "        img = img.convert(\"RGB\")\n",
    "        img = img.resize((image_w, image_h))\n",
    "        data = np.asarray(img)\n",
    "\n",
    "        X.append(data)\n",
    "        y.append(label)\n",
    "\n",
    "        if i % 700 == 0:\n",
    "            print(cat, \" : \", f)\n",
    "\n",
    "X = np.array(X)\n",
    "y = np.array(y)\n",
    "\n",
    "\n",
    "X_train, X_test, y_train, y_test = train_test_split(X, y)\n",
    "xy = (X_train, X_test, y_train, y_test)\n",
    "np.save(\"./numpy_data/multi_image_data.npy\", xy)\n",
    "\n",
    "print(\"ok\", len(y))"
   ]
  },
  {
   "cell_type": "code",
   "execution_count": 6,
   "metadata": {},
   "outputs": [],
   "source": [
    "import pickle\n",
    "\n",
    "xy = (X_train, X_test, y_train, y_test)\n",
    "with open(\"./numpy_data/multi_image_data.npy\",'wb') as f:\n",
    "    pickle.dump(xy,f,pickle.HIGHEST_PROTOCOL)\n",
    "\n",
    "# np.save(\"./numpy_data/multi_image_data.npy\",)"
   ]
  },
  {
   "cell_type": "code",
   "execution_count": 15,
   "metadata": {
    "tags": [
     "outputPrepend"
    ]
   },
   "outputs": [],
   "source": [
    "import os\n",
    "direc = './train/'\n",
    "\n",
    "for c in os.listdir(direc):\n",
    "    for idx,f in enumerate(os.listdir(direc+c)):\n",
    "        if idx<2400:\n",
    "            continue\n",
    "        os.remove(direc+c+'/'+f)\n"
   ]
  },
  {
   "cell_type": "code",
   "execution_count": 37,
   "metadata": {},
   "outputs": [
    {
     "output_type": "execute_result",
     "data": {
      "text/plain": "array([[[[  6,   6,   6],\n         [  6,   6,   6],\n         [  5,   5,   5],\n         ...,\n         [ 14,  14,  14],\n         [ 25,  25,  25],\n         [ 29,  29,  29]],\n\n        [[ 12,  12,  12],\n         [ 12,  12,  12],\n         [ 10,  10,  10],\n         ...,\n         [ 14,  14,  14],\n         [ 25,  25,  25],\n         [ 28,  28,  28]],\n\n        [[ 12,  12,  12],\n         [ 12,  12,  12],\n         [ 12,  12,  12],\n         ...,\n         [ 15,  15,  15],\n         [ 26,  26,  26],\n         [ 28,  28,  28]],\n\n        ...,\n\n        [[161, 161, 161],\n         [159, 159, 159],\n         [159, 159, 159],\n         ...,\n         [115, 115, 115],\n         [120, 120, 120],\n         [124, 124, 124]],\n\n        [[161, 161, 161],\n         [160, 160, 160],\n         [159, 159, 159],\n         ...,\n         [ 91,  91,  91],\n         [ 94,  94,  94],\n         [ 98,  98,  98]],\n\n        [[161, 161, 161],\n         [160, 160, 160],\n         [159, 159, 159],\n         ...,\n         [ 64,  64,  64],\n         [ 70,  70,  70],\n         [ 73,  73,  73]]]], dtype=uint8)"
     },
     "metadata": {},
     "execution_count": 37
    }
   ],
   "source": [
    "X_test[0:1]"
   ]
  },
  {
   "cell_type": "code",
   "execution_count": 1,
   "metadata": {},
   "outputs": [
    {
     "output_type": "stream",
     "name": "stderr",
     "text": "Using TensorFlow backend.\n(112497, 64, 64, 3)\n(64, 64, 3)\n"
    }
   ],
   "source": [
    "import os, glob, numpy as np\n",
    "from keras.models import Sequential\n",
    "from keras.layers import Conv2D, MaxPooling2D, Dense, Flatten, Dropout\n",
    "from keras.callbacks import EarlyStopping, ModelCheckpoint\n",
    "import matplotlib.pyplot as plt\n",
    "import keras.backend.tensorflow_backend as K\n",
    "\n",
    "X_train, X_test, y_train, y_test = np.load('./numpy_data/multi_image_data.npy', allow_pickle=True)\n",
    "print(X_train.shape)\n",
    "print(X_train[0].shape)"
   ]
  },
  {
   "cell_type": "code",
   "execution_count": 2,
   "metadata": {},
   "outputs": [],
   "source": [
    "categories = [str(i) for i in range(1,21)]\n",
    "nb_classes = len(categories)\n",
    "\n",
    "#일반화\n",
    "X_train = X_train.astype(float) / 255\n",
    "X_test = X_test.astype(float) / 255"
   ]
  },
  {
   "cell_type": "code",
   "execution_count": 5,
   "metadata": {},
   "outputs": [],
   "source": [
    "model = Sequential()\n",
    "model.add(Conv2D(64, (3,3), padding=\"same\", input_shape=X_train.shape[1:], activation='relu'))\n",
    "model.add(MaxPooling2D(pool_size=(2,2)))\n",
    "model.add(Dropout(0.25))\n",
    "\n",
    "model.add(Conv2D(128, (3,3), padding=\"same\", activation='relu'))\n",
    "model.add(MaxPooling2D(pool_size=(2,2)))\n",
    "model.add(Dropout(0.25))\n",
    "\n",
    "model.add(Flatten())\n",
    "model.add(Dense(256, activation='relu'))\n",
    "model.add(Dropout(0.5))\n",
    "model.add(Dense(nb_classes, activation='softmax'))\n",
    "model.compile(loss='categorical_crossentropy', optimizer='nadam', metrics=['accuracy'])"
   ]
  },
  {
   "cell_type": "code",
   "execution_count": 6,
   "metadata": {},
   "outputs": [
    {
     "output_type": "stream",
     "name": "stdout",
     "text": "훈련되지 않은 모델의 정확도:  8.31%\n"
    }
   ],
   "source": [
    "loss, acc = model.evaluate(X_test, y_test, verbose=2)\n",
    "print(\"훈련되지 않은 모델의 정확도: {:5.2f}%\".format(100*acc))"
   ]
  },
  {
   "cell_type": "code",
   "execution_count": 7,
   "metadata": {},
   "outputs": [
    {
     "output_type": "stream",
     "name": "stdout",
     "text": "복원된 모델의 정확도: 91.76%\n"
    }
   ],
   "source": [
    "model.load_weights(\"model/model.h5\")\n",
    "loss,acc = model.evaluate(X_test, y_test, verbose=2)\n",
    "print(\"복원된 모델의 정확도: {:5.2f}%\".format(100*acc))"
   ]
  },
  {
   "cell_type": "code",
   "execution_count": 20,
   "metadata": {},
   "outputs": [
    {
     "output_type": "execute_result",
     "data": {
      "text/plain": "array([[1.3768237e-09, 9.9928838e-01, 6.9432321e-04, 3.6024195e-16,\n        9.3672755e-15, 1.5293414e-14, 3.3961570e-11, 1.4334563e-10,\n        1.1179971e-05, 3.1356068e-17, 6.1126029e-06, 2.5829897e-11]],\n      dtype=float32)"
     },
     "metadata": {},
     "execution_count": 20
    }
   ],
   "source": [
    "model.predict(X_test[:1,0:])"
   ]
  },
  {
   "cell_type": "code",
   "execution_count": 23,
   "metadata": {},
   "outputs": [],
   "source": [
    "import tensorflowjs as tfjs\n",
    "\n",
    "tfjs.converters.save_keras_model(model, \"C:\\\\Users\\\\kkho5\\\\Desktop\\\\project\\\\SimilarCeleb\\\\js\")"
   ]
  },
  {
   "cell_type": "code",
   "execution_count": null,
   "metadata": {},
   "outputs": [],
   "source": []
  },
  {
   "cell_type": "code",
   "execution_count": null,
   "metadata": {},
   "outputs": [],
   "source": []
  },
  {
   "cell_type": "code",
   "execution_count": null,
   "metadata": {},
   "outputs": [],
   "source": []
  },
  {
   "cell_type": "code",
   "execution_count": 31,
   "metadata": {},
   "outputs": [],
   "source": [
    "model = Sequential()\n",
    "model.add(Conv2D(32, (3,3), padding=\"same\", input_shape=X_train.shape[1:], activation='relu'))\n",
    "model.add(MaxPooling2D(pool_size=(2,2)))\n",
    "model.add(Dropout(0.25))\n",
    "\n",
    "model.add(Conv2D(64, (3,3), activation='relu'))\n",
    "model.add(MaxPooling2D(pool_size=(2,2)))\n",
    "model.add(Dropout(0.25))\n",
    "\n",
    "model.add(Flatten())\n",
    "model.add(Dense(128, activation='relu'))\n",
    "model.add(Dropout(0.5))\n",
    "model.add(Dense(nb_classes, activation='softmax'))\n",
    "\n",
    "model.compile(loss='categorical_crossentropy', optimizer='adam', metrics=['accuracy'])\n",
    "model_dir = './model'\n",
    "\n",
    "if not os.path.exists(model_dir):\n",
    "    os.mkdir(model_dir)\n",
    "\n",
    "model_path = model_dir + '/multi_img_classification.model'\n",
    "checkpoint = ModelCheckpoint(filepath=model_path , monitor='val_loss', verbose=1, save_best_only=True)\n",
    "early_stopping = EarlyStopping(monitor='val_loss', patience=6)"
   ]
  },
  {
   "cell_type": "code",
   "execution_count": 30,
   "metadata": {},
   "outputs": [
    {
     "output_type": "stream",
     "name": "stdout",
     "text": "Train on 67500 samples, validate on 22500 samples\nEpoch 1/50\n 4700/67500 [=>............................] - ETA: 5:09 - loss: 2.2145 - accuracy: 0.1921"
    },
    {
     "output_type": "error",
     "ename": "KeyboardInterrupt",
     "evalue": "",
     "traceback": [
      "\u001b[1;31m---------------------------------------------------------------------------\u001b[0m",
      "\u001b[1;31mKeyboardInterrupt\u001b[0m                         Traceback (most recent call last)",
      "\u001b[1;32m<ipython-input-30-f919a399eae7>\u001b[0m in \u001b[0;36m<module>\u001b[1;34m\u001b[0m\n\u001b[1;32m----> 1\u001b[1;33m \u001b[0mhistory\u001b[0m \u001b[1;33m=\u001b[0m \u001b[0mmodel\u001b[0m\u001b[1;33m.\u001b[0m\u001b[0mfit\u001b[0m\u001b[1;33m(\u001b[0m\u001b[0mX_train\u001b[0m\u001b[1;33m,\u001b[0m \u001b[0my_train\u001b[0m\u001b[1;33m,\u001b[0m \u001b[0mbatch_size\u001b[0m\u001b[1;33m=\u001b[0m\u001b[1;36m100\u001b[0m\u001b[1;33m,\u001b[0m \u001b[0mepochs\u001b[0m\u001b[1;33m=\u001b[0m\u001b[1;36m50\u001b[0m\u001b[1;33m,\u001b[0m \u001b[0mvalidation_data\u001b[0m\u001b[1;33m=\u001b[0m\u001b[1;33m(\u001b[0m\u001b[0mX_test\u001b[0m\u001b[1;33m,\u001b[0m \u001b[0my_test\u001b[0m\u001b[1;33m)\u001b[0m\u001b[1;33m,\u001b[0m\u001b[0mvalidation_split\u001b[0m\u001b[1;33m=\u001b[0m\u001b[1;36m0.2\u001b[0m\u001b[1;33m,\u001b[0m \u001b[0mcallbacks\u001b[0m\u001b[1;33m=\u001b[0m\u001b[1;33m[\u001b[0m\u001b[0mcheckpoint\u001b[0m\u001b[1;33m,\u001b[0m \u001b[0mearly_stopping\u001b[0m\u001b[1;33m]\u001b[0m\u001b[1;33m)\u001b[0m\u001b[1;33m\u001b[0m\u001b[1;33m\u001b[0m\u001b[0m\n\u001b[0m",
      "\u001b[1;32mC:\\Anaconda3\\lib\\site-packages\\keras\\engine\\training.py\u001b[0m in \u001b[0;36mfit\u001b[1;34m(self, x, y, batch_size, epochs, verbose, callbacks, validation_split, validation_data, shuffle, class_weight, sample_weight, initial_epoch, steps_per_epoch, validation_steps, validation_freq, max_queue_size, workers, use_multiprocessing, **kwargs)\u001b[0m\n\u001b[0;32m   1237\u001b[0m                                         \u001b[0msteps_per_epoch\u001b[0m\u001b[1;33m=\u001b[0m\u001b[0msteps_per_epoch\u001b[0m\u001b[1;33m,\u001b[0m\u001b[1;33m\u001b[0m\u001b[1;33m\u001b[0m\u001b[0m\n\u001b[0;32m   1238\u001b[0m                                         \u001b[0mvalidation_steps\u001b[0m\u001b[1;33m=\u001b[0m\u001b[0mvalidation_steps\u001b[0m\u001b[1;33m,\u001b[0m\u001b[1;33m\u001b[0m\u001b[1;33m\u001b[0m\u001b[0m\n\u001b[1;32m-> 1239\u001b[1;33m                                         validation_freq=validation_freq)\n\u001b[0m\u001b[0;32m   1240\u001b[0m \u001b[1;33m\u001b[0m\u001b[0m\n\u001b[0;32m   1241\u001b[0m     def evaluate(self,\n",
      "\u001b[1;32mC:\\Anaconda3\\lib\\site-packages\\keras\\engine\\training_arrays.py\u001b[0m in \u001b[0;36mfit_loop\u001b[1;34m(model, fit_function, fit_inputs, out_labels, batch_size, epochs, verbose, callbacks, val_function, val_inputs, shuffle, initial_epoch, steps_per_epoch, validation_steps, validation_freq)\u001b[0m\n\u001b[0;32m    194\u001b[0m                     \u001b[0mins_batch\u001b[0m\u001b[1;33m[\u001b[0m\u001b[0mi\u001b[0m\u001b[1;33m]\u001b[0m \u001b[1;33m=\u001b[0m \u001b[0mins_batch\u001b[0m\u001b[1;33m[\u001b[0m\u001b[0mi\u001b[0m\u001b[1;33m]\u001b[0m\u001b[1;33m.\u001b[0m\u001b[0mtoarray\u001b[0m\u001b[1;33m(\u001b[0m\u001b[1;33m)\u001b[0m\u001b[1;33m\u001b[0m\u001b[1;33m\u001b[0m\u001b[0m\n\u001b[0;32m    195\u001b[0m \u001b[1;33m\u001b[0m\u001b[0m\n\u001b[1;32m--> 196\u001b[1;33m                 \u001b[0mouts\u001b[0m \u001b[1;33m=\u001b[0m \u001b[0mfit_function\u001b[0m\u001b[1;33m(\u001b[0m\u001b[0mins_batch\u001b[0m\u001b[1;33m)\u001b[0m\u001b[1;33m\u001b[0m\u001b[1;33m\u001b[0m\u001b[0m\n\u001b[0m\u001b[0;32m    197\u001b[0m                 \u001b[0mouts\u001b[0m \u001b[1;33m=\u001b[0m \u001b[0mto_list\u001b[0m\u001b[1;33m(\u001b[0m\u001b[0mouts\u001b[0m\u001b[1;33m)\u001b[0m\u001b[1;33m\u001b[0m\u001b[1;33m\u001b[0m\u001b[0m\n\u001b[0;32m    198\u001b[0m                 \u001b[1;32mfor\u001b[0m \u001b[0ml\u001b[0m\u001b[1;33m,\u001b[0m \u001b[0mo\u001b[0m \u001b[1;32min\u001b[0m \u001b[0mzip\u001b[0m\u001b[1;33m(\u001b[0m\u001b[0mout_labels\u001b[0m\u001b[1;33m,\u001b[0m \u001b[0mouts\u001b[0m\u001b[1;33m)\u001b[0m\u001b[1;33m:\u001b[0m\u001b[1;33m\u001b[0m\u001b[1;33m\u001b[0m\u001b[0m\n",
      "\u001b[1;32mC:\\Anaconda3\\lib\\site-packages\\tensorflow_core\\python\\keras\\backend.py\u001b[0m in \u001b[0;36m__call__\u001b[1;34m(self, inputs)\u001b[0m\n\u001b[0;32m   3725\u001b[0m         \u001b[0mvalue\u001b[0m \u001b[1;33m=\u001b[0m \u001b[0mmath_ops\u001b[0m\u001b[1;33m.\u001b[0m\u001b[0mcast\u001b[0m\u001b[1;33m(\u001b[0m\u001b[0mvalue\u001b[0m\u001b[1;33m,\u001b[0m \u001b[0mtensor\u001b[0m\u001b[1;33m.\u001b[0m\u001b[0mdtype\u001b[0m\u001b[1;33m)\u001b[0m\u001b[1;33m\u001b[0m\u001b[1;33m\u001b[0m\u001b[0m\n\u001b[0;32m   3726\u001b[0m       \u001b[0mconverted_inputs\u001b[0m\u001b[1;33m.\u001b[0m\u001b[0mappend\u001b[0m\u001b[1;33m(\u001b[0m\u001b[0mvalue\u001b[0m\u001b[1;33m)\u001b[0m\u001b[1;33m\u001b[0m\u001b[1;33m\u001b[0m\u001b[0m\n\u001b[1;32m-> 3727\u001b[1;33m     \u001b[0moutputs\u001b[0m \u001b[1;33m=\u001b[0m \u001b[0mself\u001b[0m\u001b[1;33m.\u001b[0m\u001b[0m_graph_fn\u001b[0m\u001b[1;33m(\u001b[0m\u001b[1;33m*\u001b[0m\u001b[0mconverted_inputs\u001b[0m\u001b[1;33m)\u001b[0m\u001b[1;33m\u001b[0m\u001b[1;33m\u001b[0m\u001b[0m\n\u001b[0m\u001b[0;32m   3728\u001b[0m \u001b[1;33m\u001b[0m\u001b[0m\n\u001b[0;32m   3729\u001b[0m     \u001b[1;31m# EagerTensor.numpy() will often make a copy to ensure memory safety.\u001b[0m\u001b[1;33m\u001b[0m\u001b[1;33m\u001b[0m\u001b[1;33m\u001b[0m\u001b[0m\n",
      "\u001b[1;32mC:\\Anaconda3\\lib\\site-packages\\tensorflow_core\\python\\eager\\function.py\u001b[0m in \u001b[0;36m__call__\u001b[1;34m(self, *args, **kwargs)\u001b[0m\n\u001b[0;32m   1549\u001b[0m       \u001b[0mTypeError\u001b[0m\u001b[1;33m:\u001b[0m \u001b[0mFor\u001b[0m \u001b[0minvalid\u001b[0m \u001b[0mpositional\u001b[0m\u001b[1;33m/\u001b[0m\u001b[0mkeyword\u001b[0m \u001b[0margument\u001b[0m \u001b[0mcombinations\u001b[0m\u001b[1;33m.\u001b[0m\u001b[1;33m\u001b[0m\u001b[1;33m\u001b[0m\u001b[0m\n\u001b[0;32m   1550\u001b[0m     \"\"\"\n\u001b[1;32m-> 1551\u001b[1;33m     \u001b[1;32mreturn\u001b[0m \u001b[0mself\u001b[0m\u001b[1;33m.\u001b[0m\u001b[0m_call_impl\u001b[0m\u001b[1;33m(\u001b[0m\u001b[0margs\u001b[0m\u001b[1;33m,\u001b[0m \u001b[0mkwargs\u001b[0m\u001b[1;33m)\u001b[0m\u001b[1;33m\u001b[0m\u001b[1;33m\u001b[0m\u001b[0m\n\u001b[0m\u001b[0;32m   1552\u001b[0m \u001b[1;33m\u001b[0m\u001b[0m\n\u001b[0;32m   1553\u001b[0m   \u001b[1;32mdef\u001b[0m \u001b[0m_call_impl\u001b[0m\u001b[1;33m(\u001b[0m\u001b[0mself\u001b[0m\u001b[1;33m,\u001b[0m \u001b[0margs\u001b[0m\u001b[1;33m,\u001b[0m \u001b[0mkwargs\u001b[0m\u001b[1;33m,\u001b[0m \u001b[0mcancellation_manager\u001b[0m\u001b[1;33m=\u001b[0m\u001b[1;32mNone\u001b[0m\u001b[1;33m)\u001b[0m\u001b[1;33m:\u001b[0m\u001b[1;33m\u001b[0m\u001b[1;33m\u001b[0m\u001b[0m\n",
      "\u001b[1;32mC:\\Anaconda3\\lib\\site-packages\\tensorflow_core\\python\\eager\\function.py\u001b[0m in \u001b[0;36m_call_impl\u001b[1;34m(self, args, kwargs, cancellation_manager)\u001b[0m\n\u001b[0;32m   1589\u001b[0m       raise TypeError(\"Keyword arguments {} unknown. Expected {}.\".format(\n\u001b[0;32m   1590\u001b[0m           list(kwargs.keys()), list(self._arg_keywords)))\n\u001b[1;32m-> 1591\u001b[1;33m     \u001b[1;32mreturn\u001b[0m \u001b[0mself\u001b[0m\u001b[1;33m.\u001b[0m\u001b[0m_call_flat\u001b[0m\u001b[1;33m(\u001b[0m\u001b[0margs\u001b[0m\u001b[1;33m,\u001b[0m \u001b[0mself\u001b[0m\u001b[1;33m.\u001b[0m\u001b[0mcaptured_inputs\u001b[0m\u001b[1;33m,\u001b[0m \u001b[0mcancellation_manager\u001b[0m\u001b[1;33m)\u001b[0m\u001b[1;33m\u001b[0m\u001b[1;33m\u001b[0m\u001b[0m\n\u001b[0m\u001b[0;32m   1592\u001b[0m \u001b[1;33m\u001b[0m\u001b[0m\n\u001b[0;32m   1593\u001b[0m   \u001b[1;32mdef\u001b[0m \u001b[0m_filtered_call\u001b[0m\u001b[1;33m(\u001b[0m\u001b[0mself\u001b[0m\u001b[1;33m,\u001b[0m \u001b[0margs\u001b[0m\u001b[1;33m,\u001b[0m \u001b[0mkwargs\u001b[0m\u001b[1;33m)\u001b[0m\u001b[1;33m:\u001b[0m\u001b[1;33m\u001b[0m\u001b[1;33m\u001b[0m\u001b[0m\n",
      "\u001b[1;32mC:\\Anaconda3\\lib\\site-packages\\tensorflow_core\\python\\eager\\function.py\u001b[0m in \u001b[0;36m_call_flat\u001b[1;34m(self, args, captured_inputs, cancellation_manager)\u001b[0m\n\u001b[0;32m   1690\u001b[0m       \u001b[1;31m# No tape is watching; skip to running the function.\u001b[0m\u001b[1;33m\u001b[0m\u001b[1;33m\u001b[0m\u001b[1;33m\u001b[0m\u001b[0m\n\u001b[0;32m   1691\u001b[0m       return self._build_call_outputs(self._inference_function.call(\n\u001b[1;32m-> 1692\u001b[1;33m           ctx, args, cancellation_manager=cancellation_manager))\n\u001b[0m\u001b[0;32m   1693\u001b[0m     forward_backward = self._select_forward_and_backward_functions(\n\u001b[0;32m   1694\u001b[0m         \u001b[0margs\u001b[0m\u001b[1;33m,\u001b[0m\u001b[1;33m\u001b[0m\u001b[1;33m\u001b[0m\u001b[0m\n",
      "\u001b[1;32mC:\\Anaconda3\\lib\\site-packages\\tensorflow_core\\python\\eager\\function.py\u001b[0m in \u001b[0;36mcall\u001b[1;34m(self, ctx, args, cancellation_manager)\u001b[0m\n\u001b[0;32m    543\u001b[0m               \u001b[0minputs\u001b[0m\u001b[1;33m=\u001b[0m\u001b[0margs\u001b[0m\u001b[1;33m,\u001b[0m\u001b[1;33m\u001b[0m\u001b[1;33m\u001b[0m\u001b[0m\n\u001b[0;32m    544\u001b[0m               \u001b[0mattrs\u001b[0m\u001b[1;33m=\u001b[0m\u001b[1;33m(\u001b[0m\u001b[1;34m\"executor_type\"\u001b[0m\u001b[1;33m,\u001b[0m \u001b[0mexecutor_type\u001b[0m\u001b[1;33m,\u001b[0m \u001b[1;34m\"config_proto\"\u001b[0m\u001b[1;33m,\u001b[0m \u001b[0mconfig\u001b[0m\u001b[1;33m)\u001b[0m\u001b[1;33m,\u001b[0m\u001b[1;33m\u001b[0m\u001b[1;33m\u001b[0m\u001b[0m\n\u001b[1;32m--> 545\u001b[1;33m               ctx=ctx)\n\u001b[0m\u001b[0;32m    546\u001b[0m         \u001b[1;32melse\u001b[0m\u001b[1;33m:\u001b[0m\u001b[1;33m\u001b[0m\u001b[1;33m\u001b[0m\u001b[0m\n\u001b[0;32m    547\u001b[0m           outputs = execute.execute_with_cancellation(\n",
      "\u001b[1;32mC:\\Anaconda3\\lib\\site-packages\\tensorflow_core\\python\\eager\\execute.py\u001b[0m in \u001b[0;36mquick_execute\u001b[1;34m(op_name, num_outputs, inputs, attrs, ctx, name)\u001b[0m\n\u001b[0;32m     59\u001b[0m     tensors = pywrap_tensorflow.TFE_Py_Execute(ctx._handle, device_name,\n\u001b[0;32m     60\u001b[0m                                                \u001b[0mop_name\u001b[0m\u001b[1;33m,\u001b[0m \u001b[0minputs\u001b[0m\u001b[1;33m,\u001b[0m \u001b[0mattrs\u001b[0m\u001b[1;33m,\u001b[0m\u001b[1;33m\u001b[0m\u001b[1;33m\u001b[0m\u001b[0m\n\u001b[1;32m---> 61\u001b[1;33m                                                num_outputs)\n\u001b[0m\u001b[0;32m     62\u001b[0m   \u001b[1;32mexcept\u001b[0m \u001b[0mcore\u001b[0m\u001b[1;33m.\u001b[0m\u001b[0m_NotOkStatusException\u001b[0m \u001b[1;32mas\u001b[0m \u001b[0me\u001b[0m\u001b[1;33m:\u001b[0m\u001b[1;33m\u001b[0m\u001b[1;33m\u001b[0m\u001b[0m\n\u001b[0;32m     63\u001b[0m     \u001b[1;32mif\u001b[0m \u001b[0mname\u001b[0m \u001b[1;32mis\u001b[0m \u001b[1;32mnot\u001b[0m \u001b[1;32mNone\u001b[0m\u001b[1;33m:\u001b[0m\u001b[1;33m\u001b[0m\u001b[1;33m\u001b[0m\u001b[0m\n",
      "\u001b[1;31mKeyboardInterrupt\u001b[0m: "
     ]
    }
   ],
   "source": [
    "history = model.fit(X_train, y_train, batch_size=100, epochs=50, validation_data=(X_test, y_test),validation_split=0.2, callbacks=[checkpoint, early_stopping])"
   ]
  },
  {
   "cell_type": "code",
   "execution_count": 45,
   "metadata": {},
   "outputs": [
    {
     "output_type": "execute_result",
     "data": {
      "text/plain": "'./model/multi_img_classification.model'"
     },
     "metadata": {},
     "execution_count": 45
    }
   ],
   "source": [
    "from PIL import Image\n",
    "import os, glob, numpy as np\n",
    "from sklearn.model_selection import train_test_split\n",
    "import os, glob, numpy as np\n",
    "from keras.models import Sequential\n",
    "from keras.layers import Conv2D, MaxPooling2D, Dense, Flatten, Dropout\n",
    "from keras.callbacks import EarlyStopping, ModelCheckpoint\n",
    "import matplotlib.pyplot as plt\n",
    "import keras.backend.tensorflow_backend as K\n",
    "import keras\n",
    "from keras.preprocessing.image import ImageDataGenerator, array_to_img, img_to_array, load_img\n",
    "model_dir = './model'\n",
    "\n",
    "model_path = model_dir + '/multi_img_classification.model'\n",
    "model_path"
   ]
  },
  {
   "cell_type": "code",
   "execution_count": 46,
   "metadata": {},
   "outputs": [
    {
     "output_type": "execute_result",
     "data": {
      "text/plain": "<keras.engine.sequential.Sequential at 0x1d091ceb648>"
     },
     "metadata": {},
     "execution_count": 46
    }
   ],
   "source": [
    "model = keras.models.load_model(model_path)\n",
    "model"
   ]
  },
  {
   "cell_type": "code",
   "execution_count": 49,
   "metadata": {},
   "outputs": [
    {
     "output_type": "stream",
     "name": "stdout",
     "text": "Test score: 1359.3352131184895\nTest accuracy: 0.24324443936347961\n"
    }
   ],
   "source": [
    "score = model.evaluate(X_test, y_test, verbose=0)\n",
    "y = model.predict(X_test)\n",
    "print('Test score:', score[0])\n",
    "print('Test accuracy:', score[1])"
   ]
  },
  {
   "cell_type": "code",
   "execution_count": 48,
   "metadata": {},
   "outputs": [
    {
     "output_type": "execute_result",
     "data": {
      "text/plain": "(22500, 64, 64, 3)"
     },
     "metadata": {},
     "execution_count": 48
    }
   ],
   "source": [
    "X_test.shape"
   ]
  },
  {
   "cell_type": "code",
   "execution_count": null,
   "metadata": {},
   "outputs": [],
   "source": []
  },
  {
   "cell_type": "code",
   "execution_count": 2,
   "metadata": {},
   "outputs": [],
   "source": [
    "from keras.models import model_from_json\n",
    "json_file = open(\"./model (1).json\", \"r\")\n",
    "loaded_model_json = json_file.read()\n",
    "json_file.close()\n",
    "loaded_model = model_from_json(loaded_model_json)"
   ]
  },
  {
   "cell_type": "code",
   "execution_count": 7,
   "metadata": {},
   "outputs": [
    {
     "output_type": "stream",
     "name": "stdout",
     "text": "Loaded model from disk\n"
    }
   ],
   "source": [
    "loaded_model.load_weights(\"./model/model.h5\")\n",
    "print(\"Loaded model from disk\")"
   ]
  },
  {
   "cell_type": "code",
   "execution_count": 8,
   "metadata": {},
   "outputs": [
    {
     "output_type": "stream",
     "name": "stdout",
     "text": "22500/22500 [==============================] - 76s 3ms/step\n"
    },
    {
     "output_type": "execute_result",
     "data": {
      "text/plain": "[48.565039027235244, 0.08168888837099075]"
     },
     "metadata": {},
     "execution_count": 8
    }
   ],
   "source": [
    "loaded_model.compile(loss='categorical_crossentropy', optimizer='nadam', metrics=['accuracy'])\n",
    "score = loaded_model.evaluate(X_test,y_test,verbose=1)\n",
    "score"
   ]
  },
  {
   "cell_type": "code",
   "execution_count": 29,
   "metadata": {},
   "outputs": [
    {
     "output_type": "execute_result",
     "data": {
      "text/plain": "array([[0., 1., 0., 0., 0., 0., 0., 0., 0., 0., 0., 0.]], dtype=float32)"
     },
     "metadata": {},
     "execution_count": 29
    }
   ],
   "source": [
    "y = loaded_model.predict(X_test[:1,0:])\n",
    "y"
   ]
  },
  {
   "cell_type": "code",
   "execution_count": 28,
   "metadata": {},
   "outputs": [
    {
     "output_type": "execute_result",
     "data": {
      "text/plain": "(1, 64, 64, 3)"
     },
     "metadata": {},
     "execution_count": 28
    }
   ],
   "source": [
    "X_test[:1,0:].shape"
   ]
  },
  {
   "cell_type": "code",
   "execution_count": 1,
   "metadata": {},
   "outputs": [
    {
     "output_type": "stream",
     "name": "stderr",
     "text": "Using TensorFlow backend.\n"
    }
   ],
   "source": [
    "import numpy as np\n",
    "import os\n",
    "# 랜덤시드 고정시키기\n",
    "np.random.seed(5)\n",
    "\n",
    "from keras.preprocessing.image import ImageDataGenerator, array_to_img, img_to_array, load_img\n",
    "\n",
    "# 데이터셋 불러오기\n",
    "data_aug_gen = ImageDataGenerator(rescale=1./255, \n",
    "                                  rotation_range=10,\n",
    "                                  width_shift_range=0.1,\n",
    "                                  height_shift_range=0.1,\n",
    "                                  shear_range=0.1,\n",
    "                                  zoom_range=[0.9, 1.3],\n",
    "                                  horizontal_flip=True,\n",
    "                                  vertical_flip=True,\n",
    "                                  fill_mode='nearest')\n",
    "\n",
    "for idx in range(14,15):\n",
    "    categori = f\"./train/{idx}/\"\n",
    "    for catimg in os.listdir(categori):\n",
    "        if len(os.listdir(categori)) > 7500:\n",
    "            break\n",
    "        img = load_img(categori+\"/\"+catimg)\n",
    "        x = img_to_array(img)\n",
    "        x = x.reshape((1,) + x.shape)\n",
    "\n",
    "        i = 0\n",
    "\n",
    "        # 이 for는 무한으로 반복되기 때문에 우리가 원하는 반복횟수를 지정하여, 지정된 반복횟수가 되면 빠져나오도록 해야합니다.\n",
    "        for batch in data_aug_gen.flow(x, batch_size=1, save_to_dir=categori, save_prefix='tri', save_format='jpg'):\n",
    "            i += 1\n",
    "            if i > 120: \n",
    "                break"
   ]
  },
  {
   "cell_type": "code",
   "execution_count": 18,
   "metadata": {},
   "outputs": [
    {
     "output_type": "stream",
     "name": "stdout",
     "text": "7512\n7392\n7508\n7503\n7509\n7525\n7538\n"
    }
   ],
   "source": []
  }
 ],
 "metadata": {
  "language_info": {
   "codemirror_mode": {
    "name": "ipython",
    "version": 3
   },
   "file_extension": ".py",
   "mimetype": "text/x-python",
   "name": "python",
   "nbconvert_exporter": "python",
   "pygments_lexer": "ipython3",
   "version": "3.7.6-final"
  },
  "orig_nbformat": 2,
  "kernelspec": {
   "name": "python37664bitbasecondaa28a3b49c13543328a872162cf784a5e",
   "display_name": "Python 3.7.6 64-bit ('base': conda)"
  }
 },
 "nbformat": 4,
 "nbformat_minor": 2
}