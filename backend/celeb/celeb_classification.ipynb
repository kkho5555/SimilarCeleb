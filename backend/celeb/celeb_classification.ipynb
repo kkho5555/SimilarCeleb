{
 "cells": [
  {
   "cell_type": "code",
   "execution_count": 31,
   "metadata": {
    "tags": [
     "outputPrepend",
     "outputPrepend",
     "outputPrepend",
     "outputPrepend",
     "outputPrepend",
     "outputPrepend",
     "outputPrepend",
     "outputPrepend",
     "outputPrepend",
     "outputPrepend",
     "outputPrepend",
     "outputPrepend",
     "outputPrepend",
     "outputPrepend",
     "outputPrepend",
     "outputPrepend",
     "outputPrepend",
     "outputPrepend",
     "outputPrepend",
     "outputPrepend",
     "outputPrepend",
     "outputPrepend",
     "outputPrepend",
     "outputPrepend",
     "outputPrepend",
     "outputPrepend",
     "outputPrepend",
     "outputPrepend",
     "outputPrepend",
     "outputPrepend",
     "outputPrepend",
     "outputPrepend",
     "outputPrepend",
     "outputPrepend",
     "outputPrepend",
     "outputPrepend",
     "outputPrepend",
     "outputPrepend",
     "outputPrepend",
     "outputPrepend",
     "outputPrepend",
     "outputPrepend",
     "outputPrepend",
     "outputPrepend",
     "outputPrepend",
     "outputPrepend",
     "outputPrepend",
     "outputPrepend",
     "outputPrepend",
     "outputPrepend",
     "outputPrepend",
     "outputPrepend",
     "outputPrepend",
     "outputPrepend",
     "outputPrepend",
     "outputPrepend",
     "outputPrepend",
     "outputPrepend",
     "outputPrepend",
     "outputPrepend",
     "outputPrepend",
     "outputPrepend",
     "outputPrepend",
     "outputPrepend",
     "outputPrepend",
     "outputPrepend",
     "outputPrepend",
     "outputPrepend",
     "outputPrepend",
     "outputPrepend",
     "outputPrepend",
     "outputPrepend",
     "outputPrepend",
     "outputPrepend",
     "outputPrepend",
     "outputPrepend",
     "outputPrepend",
     "outputPrepend",
     "outputPrepend",
     "outputPrepend",
     "outputPrepend",
     "outputPrepend",
     "outputPrepend",
     "outputPrepend",
     "outputPrepend",
     "outputPrepend",
     "outputPrepend",
     "outputPrepend",
     "outputPrepend",
     "outputPrepend",
     "outputPrepend",
     "outputPrepend",
     "outputPrepend",
     "outputPrepend",
     "outputPrepend",
     "outputPrepend",
     "outputPrepend",
     "outputPrepend",
     "outputPrepend",
     "outputPrepend",
     "outputPrepend",
     "outputPrepend",
     "outputPrepend",
     "outputPrepend",
     "outputPrepend",
     "outputPrepend",
     "outputPrepend",
     "outputPrepend",
     "outputPrepend",
     "outputPrepend",
     "outputPrepend",
     "outputPrepend",
     "outputPrepend",
     "outputPrepend",
     "outputPrepend",
     "outputPrepend",
     "outputPrepend",
     "outputPrepend",
     "outputPrepend",
     "outputPrepend",
     "outputPrepend",
     "outputPrepend",
     "outputPrepend",
     "outputPrepend",
     "outputPrepend",
     "outputPrepend",
     "outputPrepend",
     "outputPrepend",
     "outputPrepend",
     "outputPrepend",
     "outputPrepend",
     "outputPrepend",
     "outputPrepend",
     "outputPrepend",
     "outputPrepend",
     "outputPrepend",
     "outputPrepend",
     "outputPrepend",
     "outputPrepend",
     "outputPrepend",
     "outputPrepend",
     "outputPrepend",
     "outputPrepend",
     "outputPrepend",
     "outputPrepend",
     "outputPrepend",
     "outputPrepend",
     "outputPrepend",
     "outputPrepend",
     "outputPrepend",
     "outputPrepend",
     "outputPrepend",
     "outputPrepend",
     "outputPrepend",
     "outputPrepend",
     "outputPrepend",
     "outputPrepend",
     "outputPrepend",
     "outputPrepend",
     "outputPrepend",
     "outputPrepend",
     "outputPrepend",
     "outputPrepend",
     "outputPrepend",
     "outputPrepend",
     "outputPrepend",
     "outputPrepend",
     "outputPrepend",
     "outputPrepend",
     "outputPrepend",
     "outputPrepend",
     "outputPrepend",
     "outputPrepend",
     "outputPrepend",
     "outputPrepend",
     "outputPrepend",
     "outputPrepend",
     "outputPrepend",
     "outputPrepend",
     "outputPrepend",
     "outputPrepend",
     "outputPrepend",
     "outputPrepend",
     "outputPrepend",
     "outputPrepend",
     "outputPrepend",
     "outputPrepend",
     "outputPrepend",
     "outputPrepend",
     "outputPrepend",
     "outputPrepend",
     "outputPrepend",
     "outputPrepend",
     "outputPrepend",
     "outputPrepend",
     "outputPrepend",
     "outputPrepend",
     "outputPrepend",
     "outputPrepend",
     "outputPrepend",
     "outputPrepend",
     "outputPrepend",
     "outputPrepend",
     "outputPrepend",
     "outputPrepend",
     "outputPrepend",
     "outputPrepend",
     "outputPrepend",
     "outputPrepend",
     "outputPrepend",
     "outputPrepend",
     "outputPrepend",
     "outputPrepend",
     "outputPrepend"
    ]
   },
   "outputs": [
    {
     "output_type": "stream",
     "name": "stdout",
     "text": ":  ../data/train//23_Jung Eunji\\tri_0_3433.jpg\n24_Jung Guk  파일 길이 :  2489\n24_Jung Guk  :  ../data/train//24_Jung Guk\\10.jpg\n24_Jung Guk  :  ../data/train//24_Jung Guk\\tri_0_1693.jpg\n24_Jung Guk  :  ../data/train//24_Jung Guk\\tri_0_2561.jpg\n24_Jung Guk  :  ../data/train//24_Jung Guk\\tri_0_339.jpg\n25_Jung Haein  파일 길이 :  2489\n25_Jung Haein  :  ../data/train//25_Jung Haein\\10.jpg\n25_Jung Haein  :  ../data/train//25_Jung Haein\\tri_0_1704.jpg\n25_Jung Haein  :  ../data/train//25_Jung Haein\\tri_0_2565.jpg\n25_Jung Haein  :  ../data/train//25_Jung Haein\\tri_0_3399.jpg\n26_Jung Hyungdon  파일 길이 :  2493\n26_Jung Hyungdon  :  ../data/train//26_Jung Hyungdon\\104.jpg\n26_Jung Hyungdon  :  ../data/train//26_Jung Hyungdon\\tri_0_1757.jpg\n26_Jung Hyungdon  :  ../data/train//26_Jung Hyungdon\\tri_0_2611.jpg\n26_Jung Hyungdon  :  ../data/train//26_Jung Hyungdon\\tri_0_3444.jpg\n27_Jung Jihoon  파일 길이 :  2497\n27_Jung Jihoon  :  ../data/train//27_Jung Jihoon\\10.jpg\n27_Jung Jihoon  :  ../data/train//27_Jung Jihoon\\tri_0_1685.jpg\n27_Jung Jihoon  :  ../data/train//27_Jung Jihoon\\tri_0_2534.jpg\n27_Jung Jihoon  :  ../data/train//27_Jung Jihoon\\tri_0_341.jpg\n28_Jung Jinwoon  파일 길이 :  2496\n28_Jung Jinwoon  :  ../data/train//28_Jung Jinwoon\\11.jpg\n28_Jung Jinwoon  :  ../data/train//28_Jung Jinwoon\\tri_0_1705.jpg\n28_Jung Jinwoon  :  ../data/train//28_Jung Jinwoon\\tri_0_2556.jpg\n28_Jung Jinwoon  :  ../data/train//28_Jung Jinwoon\\tri_0_3387.jpg\n29_Jung Kyungho  파일 길이 :  2483\n29_Jung Kyungho  :  ../data/train//29_Jung Kyungho\\103.jpg\n29_Jung Kyungho  :  ../data/train//29_Jung Kyungho\\tri_0_1723.jpg\n29_Jung Kyungho  :  ../data/train//29_Jung Kyungho\\tri_0_2567.jpg\n29_Jung Kyungho  :  ../data/train//29_Jung Kyungho\\tri_0_3405.jpg\n30_Jung Ryeowon  파일 길이 :  2493\n30_Jung Ryeowon  :  ../data/train//30_Jung Ryeowon\\10.jpg\n30_Jung Ryeowon  :  ../data/train//30_Jung Ryeowon\\tri_0_1702.jpg\n30_Jung Ryeowon  :  ../data/train//30_Jung Ryeowon\\tri_0_2558.jpg\n30_Jung Ryeowon  :  ../data/train//30_Jung Ryeowon\\tri_0_3404.jpg\n31_Jung Woosung  파일 길이 :  2493\n31_Jung Woosung  :  ../data/train//31_Jung Woosung\\10.jpg\n31_Jung Woosung  :  ../data/train//31_Jung Woosung\\tri_0_1688.jpg\n31_Jung Woosung  :  ../data/train//31_Jung Woosung\\tri_0_2508.jpg\n31_Jung Woosung  :  ../data/train//31_Jung Woosung\\tri_0_3365.jpg\n32_Jung Yumi  파일 길이 :  2491\n32_Jung Yumi  :  ../data/train//32_Jung Yumi\\100.jpg\n32_Jung Yumi  :  ../data/train//32_Jung Yumi\\tri_0_1731.jpg\n32_Jung Yumi  :  ../data/train//32_Jung Yumi\\tri_0_2570.jpg\n32_Jung Yumi  :  ../data/train//32_Jung Yumi\\tri_0_3438.jpg\n33_Kim Haesook  파일 길이 :  2500\n33_Kim Haesook  :  ../data/train//33_Kim Haesook\\10.jpg\n33_Kim Haesook  :  ../data/train//33_Kim Haesook\\tri_0_1739.jpg\n33_Kim Haesook  :  ../data/train//33_Kim Haesook\\tri_0_2583.jpg\n33_Kim Haesook  :  ../data/train//33_Kim Haesook\\tri_0_3378.jpg\n34_Kim Heeae  파일 길이 :  2489\n34_Kim Heeae  :  ../data/train//34_Kim Heeae\\10.jpg\n34_Kim Heeae  :  ../data/train//34_Kim Heeae\\tri_0_1768.jpg\n34_Kim Heeae  :  ../data/train//34_Kim Heeae\\tri_0_2632.jpg\n34_Kim Heeae  :  ../data/train//34_Kim Heeae\\tri_0_3465.jpg\n35_Kim Heechul  파일 길이 :  2498\n35_Kim Heechul  :  ../data/train//35_Kim Heechul\\10.jpg\n35_Kim Heechul  :  ../data/train//35_Kim Heechul\\tri_0_1755.jpg\n35_Kim Heechul  :  ../data/train//35_Kim Heechul\\tri_0_2606.jpg\n35_Kim Heechul  :  ../data/train//35_Kim Heechul\\tri_0_345.jpg\n36_Kim Heesun  파일 길이 :  2485\n36_Kim Heesun  :  ../data/train//36_Kim Heesun\\10.jpg\n36_Kim Heesun  :  ../data/train//36_Kim Heesun\\tri_0_1730.jpg\n36_Kim Heesun  :  ../data/train//36_Kim Heesun\\tri_0_2571.jpg\n36_Kim Heesun  :  ../data/train//36_Kim Heesun\\tri_0_3405.jpg\n37_Kim Hyangki  파일 길이 :  2495\n37_Kim Hyangki  :  ../data/train//37_Kim Hyangki\\104.jpg\n37_Kim Hyangki  :  ../data/train//37_Kim Hyangki\\tri_0_1768.jpg\n37_Kim Hyangki  :  ../data/train//37_Kim Hyangki\\tri_0_2591.jpg\n37_Kim Hyangki  :  ../data/train//37_Kim Hyangki\\tri_0_3427.jpg\n38_Kim Hyesoo  파일 길이 :  2493\n38_Kim Hyesoo  :  ../data/train//38_Kim Hyesoo\\10.jpg\n38_Kim Hyesoo  :  ../data/train//38_Kim Hyesoo\\tri_0_1757.jpg\n38_Kim Hyesoo  :  ../data/train//38_Kim Hyesoo\\tri_0_2587.jpg\n38_Kim Hyesoo  :  ../data/train//38_Kim Hyesoo\\tri_0_3432.jpg\n39_Kim Jiwon  파일 길이 :  2493\n39_Kim Jiwon  :  ../data/train//39_Kim Jiwon\\101.jpg\n39_Kim Jiwon  :  ../data/train//39_Kim Jiwon\\tri_0_1725.jpg\n39_Kim Jiwon  :  ../data/train//39_Kim Jiwon\\tri_0_2567.jpg\n39_Kim Jiwon  :  ../data/train//39_Kim Jiwon\\tri_0_3404.jpg\n40_Kim Yujung  파일 길이 :  2491\n40_Kim Yujung  :  ../data/train//40_Kim Yujung\\101.jpg\n40_Kim Yujung  :  ../data/train//40_Kim Yujung\\tri_0_1702.jpg\n40_Kim Yujung  :  ../data/train//40_Kim Yujung\\tri_0_2562.jpg\n40_Kim Yujung  :  ../data/train//40_Kim Yujung\\tri_0_3416.jpg\n41_Kwill  파일 길이 :  2495\n41_Kwill  :  ../data/train//41_Kwill\\10.jpg\n41_Kwill  :  ../data/train//41_Kwill\\tri_0_1719.jpg\n41_Kwill  :  ../data/train//41_Kwill\\tri_0_2579.jpg\n41_Kwill  :  ../data/train//41_Kwill\\tri_0_3409.jpg\n42_Na Na  파일 길이 :  2503\n42_Na Na  :  ../data/train//42_Na Na\\102.jpg\n42_Na Na  :  ../data/train//42_Na Na\\tri_0_1737.jpg\n42_Na Na  :  ../data/train//42_Na Na\\tri_0_2558.jpg\n42_Na Na  :  ../data/train//42_Na Na\\tri_0_3394.jpg\n43_Nam Juhyuk  파일 길이 :  2497\n43_Nam Juhyuk  :  ../data/train//43_Nam Juhyuk\\100.jpg\n43_Nam Juhyuk  :  ../data/train//43_Nam Juhyuk\\tri_0_173.jpg\n43_Nam Juhyuk  :  ../data/train//43_Nam Juhyuk\\tri_0_2598.jpg\n43_Nam Juhyuk  :  ../data/train//43_Nam Juhyuk\\tri_0_3438.jpg\n44_Namgung Min  파일 길이 :  2479\n44_Namgung Min  :  ../data/train//44_Namgung Min\\10.jpg\n44_Namgung Min  :  ../data/train//44_Namgung Min\\tri_0_1678.jpg\n44_Namgung Min  :  ../data/train//44_Namgung Min\\tri_0_2540.jpg\n44_Namgung Min  :  ../data/train//44_Namgung Min\\tri_0_339.jpg\n45_Nancy  파일 길이 :  2497\n45_Nancy  :  ../data/train//45_Nancy\\105.jpg\n45_Nancy  :  ../data/train//45_Nancy\\tri_0_1736.jpg\n45_Nancy  :  ../data/train//45_Nancy\\tri_0_2589.jpg\n45_Nancy  :  ../data/train//45_Nancy\\tri_0_3445.jpg\n46_Ok Taek Yeon  파일 길이 :  2490\n46_Ok Taek Yeon  :  ../data/train//46_Ok Taek Yeon\\100.jpg\n46_Ok Taek Yeon  :  ../data/train//46_Ok Taek Yeon\\tri_0_171.jpg\n46_Ok Taek Yeon  :  ../data/train//46_Ok Taek Yeon\\tri_0_2562.jpg\n46_Ok Taek Yeon  :  ../data/train//46_Ok Taek Yeon\\tri_0_3400.jpg\n47_Paloalto  파일 길이 :  2491\n47_Paloalto  :  ../data/train//47_Paloalto\\11.jpg\n47_Paloalto  :  ../data/train//47_Paloalto\\tri_0_1792.jpg\n47_Paloalto  :  ../data/train//47_Paloalto\\tri_0_2621.jpg\n47_Paloalto  :  ../data/train//47_Paloalto\\tri_0_3463.jpg\n48_Sun Mi  파일 길이 :  2486\n48_Sun Mi  :  ../data/train//48_Sun Mi\\109.jpg\n48_Sun Mi  :  ../data/train//48_Sun Mi\\tri_0_1741.jpg\n48_Sun Mi  :  ../data/train//48_Sun Mi\\tri_0_2608.jpg\n48_Sun Mi  :  ../data/train//48_Sun Mi\\tri_0_344.jpg\n49_tablo  파일 길이 :  2490\n49_tablo  :  ../data/train//49_tablo\\10.jpg\n49_tablo  :  ../data/train//49_tablo\\tri_0_1753.jpg\n49_tablo  :  ../data/train//49_tablo\\tri_0_259.jpg\n49_tablo  :  ../data/train//49_tablo\\tri_0_3453.jpg\n50_Tae Min  파일 길이 :  2498\n50_Tae Min  :  ../data/train//50_Tae Min\\10.jpg\n50_Tae Min  :  ../data/train//50_Tae Min\\tri_0_1731.jpg\n50_Tae Min  :  ../data/train//50_Tae Min\\tri_0_2563.jpg\n50_Tae Min  :  ../data/train//50_Tae Min\\tri_0_3408.jpg\n51_Tae Yang  파일 길이 :  2494\n51_Tae Yang  :  ../data/train//51_Tae Yang\\107.jpg\n51_Tae Yang  :  ../data/train//51_Tae Yang\\tri_0_1785.jpg\n51_Tae Yang  :  ../data/train//51_Tae Yang\\tri_0_2622.jpg\n51_Tae Yang  :  ../data/train//51_Tae Yang\\tri_0_3446.jpg\n52_tei  파일 길이 :  2497\n52_tei  :  ../data/train//52_tei\\10.jpg\n52_tei  :  ../data/train//52_tei\\tri_0_174.jpg\n52_tei  :  ../data/train//52_tei\\tri_0_26.jpg\n52_tei  :  ../data/train//52_tei\\tri_0_3442.jpg\n53_tiger jk  파일 길이 :  2489\n53_tiger jk  :  ../data/train//53_tiger jk\\11.jpg\n53_tiger jk  :  ../data/train//53_tiger jk\\tri_0_1767.jpg\n53_tiger jk  :  ../data/train//53_tiger jk\\tri_0_2608.jpg\n53_tiger jk  :  ../data/train//53_tiger jk\\tri_0_3469.jpg\n54_Yuk Joongwan  파일 길이 :  2482\n54_Yuk Joongwan  :  ../data/train//54_Yuk Joongwan\\105.jpg\n54_Yuk Joongwan  :  ../data/train//54_Yuk Joongwan\\tri_0_1753.jpg\n54_Yuk Joongwan  :  ../data/train//54_Yuk Joongwan\\tri_0_2612.jpg\n54_Yuk Joongwan  :  ../data/train//54_Yuk Joongwan\\tri_0_3436.jpg\n55_Geum Bora  파일 길이 :  2490\n55_Geum Bora  :  ../data/train//55_Geum Bora\\10.jpg\n55_Geum Bora  :  ../data/train//55_Geum Bora\\tri_0_167.jpg\n55_Geum Bora  :  ../data/train//55_Geum Bora\\tri_0_2510.jpg\n55_Geum Bora  :  ../data/train//55_Geum Bora\\tri_0_3351.jpg\n56_Gi Taeyoung  파일 길이 :  2496\n56_Gi Taeyoung  :  ../data/train//56_Gi Taeyoung\\10.jpg\n56_Gi Taeyoung  :  ../data/train//56_Gi Taeyoung\\tri_0_1714.jpg\n56_Gi Taeyoung  :  ../data/train//56_Gi Taeyoung\\tri_0_2565.jpg\n56_Gi Taeyoung  :  ../data/train//56_Gi Taeyoung\\tri_0_3396.jpg\n57_Gong Hyungjin  파일 길이 :  2494\n57_Gong Hyungjin  :  ../data/train//57_Gong Hyungjin\\100.jpg\n57_Gong Hyungjin  :  ../data/train//57_Gong Hyungjin\\tri_0_1724.jpg\n57_Gong Hyungjin  :  ../data/train//57_Gong Hyungjin\\tri_0_260.jpg\n57_Gong Hyungjin  :  ../data/train//57_Gong Hyungjin\\tri_0_344.jpg\n58_Gong Seungyeon  파일 길이 :  2495\n58_Gong Seungyeon  :  ../data/train//58_Gong Seungyeon\\10.jpg\n58_Gong Seungyeon  :  ../data/train//58_Gong Seungyeon\\tri_0_1577.jpg\n58_Gong Seungyeon  :  ../data/train//58_Gong Seungyeon\\tri_0_2414.jpg\n58_Gong Seungyeon  :  ../data/train//58_Gong Seungyeon\\tri_0_3264.jpg\n59_Kang Dongwon  파일 길이 :  2500\n59_Kang Dongwon  :  ../data/train//59_Kang Dongwon\\10.jpg\n59_Kang Dongwon  :  ../data/train//59_Kang Dongwon\\tri_0_1733.jpg\n59_Kang Dongwon  :  ../data/train//59_Kang Dongwon\\tri_0_2543.jpg\n59_Kang Dongwon  :  ../data/train//59_Kang Dongwon\\tri_0_341.jpg\n60_Kang Haneul  파일 길이 :  2493\n60_Kang Haneul  :  ../data/train//60_Kang Haneul\\103.jpg\n60_Kang Haneul  :  ../data/train//60_Kang Haneul\\tri_0_1728.jpg\n60_Kang Haneul  :  ../data/train//60_Kang Haneul\\tri_0_2571.jpg\n60_Kang Haneul  :  ../data/train//60_Kang Haneul\\tri_0_3425.jpg\n61_Kang Hodong  파일 길이 :  2497\n61_Kang Hodong  :  ../data/train//61_Kang Hodong\\101.jpg\n61_Kang Hodong  :  ../data/train//61_Kang Hodong\\tri_0_173.jpg\n61_Kang Hodong  :  ../data/train//61_Kang Hodong\\tri_0_2594.jpg\n61_Kang Hodong  :  ../data/train//61_Kang Hodong\\tri_0_3436.jpg\n62_Kang Kiyoung  파일 길이 :  2484\n62_Kang Kiyoung  :  ../data/train//62_Kang Kiyoung\\100.jpg\n62_Kang Kiyoung  :  ../data/train//62_Kang Kiyoung\\tri_0_1721.jpg\n62_Kang Kiyoung  :  ../data/train//62_Kang Kiyoung\\tri_0_2558.jpg\n62_Kang Kiyoung  :  ../data/train//62_Kang Kiyoung\\tri_0_339.jpg\n63_Kang Minkyung  파일 길이 :  2496\n63_Kang Minkyung  :  ../data/train//63_Kang Minkyung\\10.jpg\n63_Kang Minkyung  :  ../data/train//63_Kang Minkyung\\tri_0_1642.jpg\n63_Kang Minkyung  :  ../data/train//63_Kang Minkyung\\tri_0_2514.jpg\n63_Kang Minkyung  :  ../data/train//63_Kang Minkyung\\tri_0_3363.jpg\n64_Kang Sora  파일 길이 :  2491\n64_Kang Sora  :  ../data/train//64_Kang Sora\\100.jpg\n64_Kang Sora  :  ../data/train//64_Kang Sora\\tri_0_1604.jpg\n64_Kang Sora  :  ../data/train//64_Kang Sora\\tri_0_2451.jpg\n64_Kang Sora  :  ../data/train//64_Kang Sora\\tri_0_3309.jpg\n65_Kim Donghee  파일 길이 :  2497\n65_Kim Donghee  :  ../data/train//65_Kim Donghee\\10.jpg\n65_Kim Donghee  :  ../data/train//65_Kim Donghee\\tri_0_172.jpg\n65_Kim Donghee  :  ../data/train//65_Kim Donghee\\tri_0_2592.jpg\n65_Kim Donghee  :  ../data/train//65_Kim Donghee\\tri_0_3449.jpg\n66_Kim Dongwan  파일 길이 :  2494\n66_Kim Dongwan  :  ../data/train//66_Kim Dongwan\\102.jpg\n66_Kim Dongwan  :  ../data/train//66_Kim Dongwan\\tri_0_1739.jpg\n66_Kim Dongwan  :  ../data/train//66_Kim Dongwan\\tri_0_2588.jpg\n66_Kim Dongwan  :  ../data/train//66_Kim Dongwan\\tri_0_3431.jpg\n67_Kim Goeun  파일 길이 :  2500\n67_Kim Goeun  :  ../data/train//67_Kim Goeun\\100.jpg\n67_Kim Goeun  :  ../data/train//67_Kim Goeun\\tri_0_1634.jpg\n67_Kim Goeun  :  ../data/train//67_Kim Goeun\\tri_0_2489.jpg\n67_Kim Goeun  :  ../data/train//67_Kim Goeun\\tri_0_3354.jpg\n68_Kim Raewon  파일 길이 :  2498\n68_Kim Raewon  :  ../data/train//68_Kim Raewon\\10.jpg\n68_Kim Raewon  :  ../data/train//68_Kim Raewon\\tri_0_1752.jpg\n68_Kim Raewon  :  ../data/train//68_Kim Raewon\\tri_0_2575.jpg\n68_Kim Raewon  :  ../data/train//68_Kim Raewon\\tri_0_341.jpg\n69_Kim Sarang  파일 길이 :  2495\n69_Kim Sarang  :  ../data/train//69_Kim Sarang\\10.jpg\n69_Kim Sarang  :  ../data/train//69_Kim Sarang\\tri_0_1633.jpg\n69_Kim Sarang  :  ../data/train//69_Kim Sarang\\tri_0_2491.jpg\n69_Kim Sarang  :  ../data/train//69_Kim Sarang\\tri_0_3349.jpg\n70_Kim Soohyun  파일 길이 :  2492\n70_Kim Soohyun  :  ../data/train//70_Kim Soohyun\\102.jpg\n70_Kim Soohyun  :  ../data/train//70_Kim Soohyun\\tri_0_1727.jpg\n70_Kim Soohyun  :  ../data/train//70_Kim Soohyun\\tri_0_2574.jpg\n70_Kim Soohyun  :  ../data/train//70_Kim Soohyun\\tri_0_3416.jpg\n71_Kim Sook  파일 길이 :  2492\n71_Kim Sook  :  ../data/train//71_Kim Sook\\10.jpg\n71_Kim Sook  :  ../data/train//71_Kim Sook\\tri_0_1644.jpg\n71_Kim Sook  :  ../data/train//71_Kim Sook\\tri_0_2513.jpg\n71_Kim Sook  :  ../data/train//71_Kim Sook\\tri_0_3368.jpg\n72_Kim Taehee  파일 길이 :  2499\n72_Kim Taehee  :  ../data/train//72_Kim Taehee\\101.jpg\n72_Kim Taehee  :  ../data/train//72_Kim Taehee\\tri_0_1620.jpg\n72_Kim Taehee  :  ../data/train//72_Kim Taehee\\tri_0_2494.jpg\n72_Kim Taehee  :  ../data/train//72_Kim Taehee\\tri_0_3325.jpg\n73_Kim Wansun  파일 길이 :  2495\n73_Kim Wansun  :  ../data/train//73_Kim Wansun\\10.jpg\n73_Kim Wansun  :  ../data/train//73_Kim Wansun\\tri_0_1729.jpg\n73_Kim Wansun  :  ../data/train//73_Kim Wansun\\tri_0_2572.jpg\n73_Kim Wansun  :  ../data/train//73_Kim Wansun\\tri_0_3403.jpg\n74_Kim Yeona  파일 길이 :  2492\n74_Kim Yeona  :  ../data/train//74_Kim Yeona\\102.jpg\n74_Kim Yeona  :  ../data/train//74_Kim Yeona\\tri_0_1757.jpg\n74_Kim Yeona  :  ../data/train//74_Kim Yeona\\tri_0_261.jpg\n74_Kim Yeona  :  ../data/train//74_Kim Yeona\\tri_0_3450.jpg\n75_Ko Changseok  파일 길이 :  2493\n75_Ko Changseok  :  ../data/train//75_Ko Changseok\\10.jpg\n75_Ko Changseok  :  ../data/train//75_Ko Changseok\\tri_0_1737.jpg\n75_Ko Changseok  :  ../data/train//75_Ko Changseok\\tri_0_2610.jpg\n75_Ko Changseok  :  ../data/train//75_Ko Changseok\\tri_0_344.jpg\n76_Ko Kyungpyo  파일 길이 :  2479\n76_Ko Kyungpyo  :  ../data/train//76_Ko Kyungpyo\\10.jpg\n76_Ko Kyungpyo  :  ../data/train//76_Ko Kyungpyo\\tri_0_1719.jpg\n76_Ko Kyungpyo  :  ../data/train//76_Ko Kyungpyo\\tri_0_2569.jpg\n76_Ko Kyungpyo  :  ../data/train//76_Ko Kyungpyo\\tri_0_3403.jpg\n77_Ko Sewon  파일 길이 :  2495\n77_Ko Sewon  :  ../data/train//77_Ko Sewon\\10.jpg\n77_Ko Sewon  :  ../data/train//77_Ko Sewon\\tri_0_1698.jpg\n77_Ko Sewon  :  ../data/train//77_Ko Sewon\\tri_0_2528.jpg\n77_Ko Sewon  :  ../data/train//77_Ko Sewon\\tri_0_3377.jpg\n78_Ko Won  파일 길이 :  2494\n78_Ko Won  :  ../data/train//78_Ko Won\\10.jpg\n78_Ko Won  :  ../data/train//78_Ko Won\\tri_0_1731.jpg\n78_Ko Won  :  ../data/train//78_Ko Won\\tri_0_2578.jpg\n78_Ko Won  :  ../data/train//78_Ko Won\\tri_0_3430.jpg\n79_Kwon Eunbi  파일 길이 :  2495\n79_Kwon Eunbi  :  ../data/train//79_Kwon Eunbi\\11.jpg\n79_Kwon Eunbi  :  ../data/train//79_Kwon Eunbi\\tri_0_1720.jpg\n79_Kwon Eunbi  :  ../data/train//79_Kwon Eunbi\\tri_0_2568.jpg\n79_Kwon Eunbi  :  ../data/train//79_Kwon Eunbi\\tri_0_3406.jpg\n80_Kyung Ri  파일 길이 :  2492\n80_Kyung Ri  :  ../data/train//80_Kyung Ri\\102.jpg\n80_Kyung Ri  :  ../data/train//80_Kyung Ri\\tri_0_1709.jpg\n80_Kyung Ri  :  ../data/train//80_Kyung Ri\\tri_0_2561.jpg\n80_Kyung Ri  :  ../data/train//80_Kyung Ri\\tri_0_3422.jpg\n81_Baek hyun  파일 길이 :  2400\n81_Baek hyun  :  ../data/train//81_Baek hyun\\1.jpg\n81_Baek hyun  :  ../data/train//81_Baek hyun\\tri_0_110.jpg\n81_Baek hyun  :  ../data/train//81_Baek hyun\\tri_0_2028.jpg\n81_Baek hyun  :  ../data/train//81_Baek hyun\\tri_0_2948.jpg\n82_Bak seojun  파일 길이 :  2400\n82_Bak seojun  :  ../data/train//82_Bak seojun\\12_0000.jpg\n82_Bak seojun  :  ../data/train//82_Bak seojun\\12_0700.jpg\n82_Bak seojun  :  ../data/train//82_Bak seojun\\12_1400.jpg\n82_Bak seojun  :  ../data/train//82_Bak seojun\\12_2100.jpg\n83_Boa  파일 길이 :  2400\n83_Boa  :  ../data/train//83_Boa\\1.jpg\n83_Boa  :  ../data/train//83_Boa\\tri_0_1410.jpg\n83_Boa  :  ../data/train//83_Boa\\tri_0_2302.jpg\n83_Boa  :  ../data/train//83_Boa\\tri_0_321.jpg\n84_Cha eunwoo  파일 길이 :  2400\n84_Cha eunwoo  :  ../data/train//84_Cha eunwoo\\3_0000.jpg\n84_Cha eunwoo  :  ../data/train//84_Cha eunwoo\\3_0700.jpg\n84_Cha eunwoo  :  ../data/train//84_Cha eunwoo\\3_1400.jpg\n84_Cha eunwoo  :  ../data/train//84_Cha eunwoo\\3_2100.jpg\n85_Ga in  파일 길이 :  2400\n85_Ga in  :  ../data/train//85_Ga in\\1_0000.jpg\n85_Ga in  :  ../data/train//85_Ga in\\1_0700.jpg\n85_Ga in  :  ../data/train//85_Ga in\\1_1400.jpg\n85_Ga in  :  ../data/train//85_Ga in\\1_2100.jpg\n86_Gae Ri  파일 길이 :  2456\n86_Gae Ri  :  ../data/train//86_Gae Ri\\106.jpg\n86_Gae Ri  :  ../data/train//86_Gae Ri\\tri_0_3215.jpg\n86_Gae Ri  :  ../data/train//86_Gae Ri\\tri_0_593.jpg\n86_Gae Ri  :  ../data/train//86_Gae Ri\\tri_0_8638.jpg\n87_Geum Saerok  파일 길이 :  2418\n87_Geum Saerok  :  ../data/train//87_Geum Saerok\\10.jpg\n87_Geum Saerok  :  ../data/train//87_Geum Saerok\\tri_0_3396.jpg\n87_Geum Saerok  :  ../data/train//87_Geum Saerok\\tri_0_6197.jpg\n87_Geum Saerok  :  ../data/train//87_Geum Saerok\\tri_0_8851.jpg\n88_Gi Riboy  파일 길이 :  2481\n88_Gi Riboy  :  ../data/train//88_Gi Riboy\\10.jpg\n88_Gi Riboy  :  ../data/train//88_Gi Riboy\\tri_0_3355.jpg\n88_Gi Riboy  :  ../data/train//88_Gi Riboy\\tri_0_5935.jpg\n88_Gi Riboy  :  ../data/train//88_Gi Riboy\\tri_0_8520.jpg\n89_Gong chan  파일 길이 :  2400\n89_Gong chan  :  ../data/train//89_Gong chan\\2_0000.jpg\n89_Gong chan  :  ../data/train//89_Gong chan\\2_0702.jpg\n89_Gong chan  :  ../data/train//89_Gong chan\\2_1402.jpg\n89_Gong chan  :  ../data/train//89_Gong chan\\2_2102.jpg\n90_Gong Yu  파일 길이 :  2438\n90_Gong Yu  :  ../data/train//90_Gong Yu\\10.jpg\n90_Gong Yu  :  ../data/train//90_Gong Yu\\tri_0_3204.jpg\n90_Gong Yu  :  ../data/train//90_Gong Yu\\tri_0_6010.jpg\n90_Gong Yu  :  ../data/train//90_Gong Yu\\tri_0_8763.jpg\n91_Gu Hyesun  파일 길이 :  2442\n91_Gu Hyesun  :  ../data/train//91_Gu Hyesun\\10.jpg\n91_Gu Hyesun  :  ../data/train//91_Gu Hyesun\\tri_0_3248.jpg\n91_Gu Hyesun  :  ../data/train//91_Gu Hyesun\\tri_0_6007.jpg\n91_Gu Hyesun  :  ../data/train//91_Gu Hyesun\\tri_0_8746.jpg\n92_Ha nee  파일 길이 :  2400\n92_Ha nee  :  ../data/train//92_Ha nee\\0.jpg\n92_Ha nee  :  ../data/train//92_Ha nee\\tri_0_1054.jpg\n92_Ha nee  :  ../data/train//92_Ha nee\\tri_0_1950.jpg\n92_Ha nee  :  ../data/train//92_Ha nee\\tri_0_2871.jpg\n93_Han yesel  파일 길이 :  2400\n93_Han yesel  :  ../data/train//93_Han yesel\\10_0000.jpg\n93_Han yesel  :  ../data/train//93_Han yesel\\10_0700.jpg\n93_Han yesel  :  ../data/train//93_Han yesel\\10_1400.jpg\n93_Han yesel  :  ../data/train//93_Han yesel\\10_2100.jpg\n94_IU  파일 길이 :  2400\n94_IU  :  ../data/train//94_IU\\7_0000.jpg\n94_IU  :  ../data/train//94_IU\\7_0700.jpg\n94_IU  :  ../data/train//94_IU\\7_1400.jpg\n94_IU  :  ../data/train//94_IU\\7_2100.jpg\n95_Jun jihyun  파일 길이 :  2400\n95_Jun jihyun  :  ../data/train//95_Jun jihyun\\5_0000.jpg\n95_Jun jihyun  :  ../data/train//95_Jun jihyun\\5_0702.jpg\n95_Jun jihyun  :  ../data/train//95_Jun jihyun\\5_1402.jpg\n95_Jun jihyun  :  ../data/train//95_Jun jihyun\\5_2102.jpg\n96_Kang Booja  파일 길이 :  2439\n96_Kang Booja  :  ../data/train//96_Kang Booja\\103.jpg\n96_Kang Booja  :  ../data/train//96_Kang Booja\\tri_0_3383.jpg\n96_Kang Booja  :  ../data/train//96_Kang Booja\\tri_0_5960.jpg\n96_Kang Booja  :  ../data/train//96_Kang Booja\\tri_0_871.jpg\n97_Kang daniel  파일 길이 :  2400\n97_Kang daniel  :  ../data/train//97_Kang daniel\\1.jpg\n97_Kang daniel  :  ../data/train//97_Kang daniel\\tri_0_1438.jpg\n97_Kang daniel  :  ../data/train//97_Kang daniel\\tri_0_2300.jpg\n97_Kang daniel  :  ../data/train//97_Kang daniel\\tri_0_3187.jpg\n98_Kang Hanna  파일 길이 :  2414\n98_Kang Hanna  :  ../data/train//98_Kang Hanna\\10.jpg\n98_Kang Hanna  :  ../data/train//98_Kang Hanna\\tri_0_3319.jpg\n98_Kang Hanna  :  ../data/train//98_Kang Hanna\\tri_0_6010.jpg\n98_Kang Hanna  :  ../data/train//98_Kang Hanna\\tri_0_8743.jpg\n99_Kang Hyejung  파일 길이 :  2415\n99_Kang Hyejung  :  ../data/train//99_Kang Hyejung\\100.jpg\n99_Kang Hyejung  :  ../data/train//99_Kang Hyejung\\tri_0_3374.jpg\n99_Kang Hyejung  :  ../data/train//99_Kang Hyejung\\tri_0_5944.jpg\n99_Kang Hyejung  :  ../data/train//99_Kang Hyejung\\tri_0_8759.jpg\n"
    },
    {
     "output_type": "error",
     "ename": "OverflowError",
     "evalue": "cannot serialize a bytes object larger than 4 GiB",
     "traceback": [
      "\u001b[1;31m---------------------------------------------------------------------------\u001b[0m",
      "\u001b[1;31mOverflowError\u001b[0m                             Traceback (most recent call last)",
      "\u001b[1;32m<ipython-input-31-168d790cad64>\u001b[0m in \u001b[0;36m<module>\u001b[1;34m\u001b[0m\n\u001b[0;32m     42\u001b[0m \u001b[0mX_train\u001b[0m\u001b[1;33m,\u001b[0m \u001b[0mX_test\u001b[0m\u001b[1;33m,\u001b[0m \u001b[0my_train\u001b[0m\u001b[1;33m,\u001b[0m \u001b[0my_test\u001b[0m \u001b[1;33m=\u001b[0m \u001b[0mtrain_test_split\u001b[0m\u001b[1;33m(\u001b[0m\u001b[0mX\u001b[0m\u001b[1;33m,\u001b[0m \u001b[0my\u001b[0m\u001b[1;33m)\u001b[0m\u001b[1;33m\u001b[0m\u001b[1;33m\u001b[0m\u001b[0m\n\u001b[0;32m     43\u001b[0m \u001b[0mxy\u001b[0m \u001b[1;33m=\u001b[0m \u001b[1;33m(\u001b[0m\u001b[0mX_train\u001b[0m\u001b[1;33m,\u001b[0m \u001b[0mX_test\u001b[0m\u001b[1;33m,\u001b[0m \u001b[0my_train\u001b[0m\u001b[1;33m,\u001b[0m \u001b[0my_test\u001b[0m\u001b[1;33m)\u001b[0m\u001b[1;33m\u001b[0m\u001b[1;33m\u001b[0m\u001b[0m\n\u001b[1;32m---> 44\u001b[1;33m \u001b[0mnp\u001b[0m\u001b[1;33m.\u001b[0m\u001b[0msave\u001b[0m\u001b[1;33m(\u001b[0m\u001b[1;34m\"../numpy_data/multi_image_data.npy\"\u001b[0m\u001b[1;33m,\u001b[0m \u001b[0mxy\u001b[0m\u001b[1;33m)\u001b[0m\u001b[1;33m\u001b[0m\u001b[1;33m\u001b[0m\u001b[0m\n\u001b[0m\u001b[0;32m     45\u001b[0m \u001b[1;33m\u001b[0m\u001b[0m\n\u001b[0;32m     46\u001b[0m \u001b[0mprint\u001b[0m\u001b[1;33m(\u001b[0m\u001b[1;34m\"ok\"\u001b[0m\u001b[1;33m,\u001b[0m \u001b[0mlen\u001b[0m\u001b[1;33m(\u001b[0m\u001b[0my\u001b[0m\u001b[1;33m)\u001b[0m\u001b[1;33m)\u001b[0m\u001b[1;33m\u001b[0m\u001b[1;33m\u001b[0m\u001b[0m\n",
      "\u001b[1;32m<__array_function__ internals>\u001b[0m in \u001b[0;36msave\u001b[1;34m(*args, **kwargs)\u001b[0m\n",
      "\u001b[1;32m~\\AppData\\Roaming\\Python\\Python37\\site-packages\\numpy\\lib\\npyio.py\u001b[0m in \u001b[0;36msave\u001b[1;34m(file, arr, allow_pickle, fix_imports)\u001b[0m\n\u001b[0;32m    551\u001b[0m         \u001b[0marr\u001b[0m \u001b[1;33m=\u001b[0m \u001b[0mnp\u001b[0m\u001b[1;33m.\u001b[0m\u001b[0masanyarray\u001b[0m\u001b[1;33m(\u001b[0m\u001b[0marr\u001b[0m\u001b[1;33m)\u001b[0m\u001b[1;33m\u001b[0m\u001b[1;33m\u001b[0m\u001b[0m\n\u001b[0;32m    552\u001b[0m         format.write_array(fid, arr, allow_pickle=allow_pickle,\n\u001b[1;32m--> 553\u001b[1;33m                            pickle_kwargs=pickle_kwargs)\n\u001b[0m\u001b[0;32m    554\u001b[0m     \u001b[1;32mfinally\u001b[0m\u001b[1;33m:\u001b[0m\u001b[1;33m\u001b[0m\u001b[1;33m\u001b[0m\u001b[0m\n\u001b[0;32m    555\u001b[0m         \u001b[1;32mif\u001b[0m \u001b[0mown_fid\u001b[0m\u001b[1;33m:\u001b[0m\u001b[1;33m\u001b[0m\u001b[1;33m\u001b[0m\u001b[0m\n",
      "\u001b[1;32m~\\AppData\\Roaming\\Python\\Python37\\site-packages\\numpy\\lib\\format.py\u001b[0m in \u001b[0;36mwrite_array\u001b[1;34m(fp, array, version, allow_pickle, pickle_kwargs)\u001b[0m\n\u001b[0;32m    674\u001b[0m         \u001b[1;32mif\u001b[0m \u001b[0mpickle_kwargs\u001b[0m \u001b[1;32mis\u001b[0m \u001b[1;32mNone\u001b[0m\u001b[1;33m:\u001b[0m\u001b[1;33m\u001b[0m\u001b[1;33m\u001b[0m\u001b[0m\n\u001b[0;32m    675\u001b[0m             \u001b[0mpickle_kwargs\u001b[0m \u001b[1;33m=\u001b[0m \u001b[1;33m{\u001b[0m\u001b[1;33m}\u001b[0m\u001b[1;33m\u001b[0m\u001b[1;33m\u001b[0m\u001b[0m\n\u001b[1;32m--> 676\u001b[1;33m         \u001b[0mpickle\u001b[0m\u001b[1;33m.\u001b[0m\u001b[0mdump\u001b[0m\u001b[1;33m(\u001b[0m\u001b[0marray\u001b[0m\u001b[1;33m,\u001b[0m \u001b[0mfp\u001b[0m\u001b[1;33m,\u001b[0m \u001b[0mprotocol\u001b[0m\u001b[1;33m=\u001b[0m\u001b[1;36m3\u001b[0m\u001b[1;33m,\u001b[0m \u001b[1;33m**\u001b[0m\u001b[0mpickle_kwargs\u001b[0m\u001b[1;33m)\u001b[0m\u001b[1;33m\u001b[0m\u001b[1;33m\u001b[0m\u001b[0m\n\u001b[0m\u001b[0;32m    677\u001b[0m     \u001b[1;32melif\u001b[0m \u001b[0marray\u001b[0m\u001b[1;33m.\u001b[0m\u001b[0mflags\u001b[0m\u001b[1;33m.\u001b[0m\u001b[0mf_contiguous\u001b[0m \u001b[1;32mand\u001b[0m \u001b[1;32mnot\u001b[0m \u001b[0marray\u001b[0m\u001b[1;33m.\u001b[0m\u001b[0mflags\u001b[0m\u001b[1;33m.\u001b[0m\u001b[0mc_contiguous\u001b[0m\u001b[1;33m:\u001b[0m\u001b[1;33m\u001b[0m\u001b[1;33m\u001b[0m\u001b[0m\n\u001b[0;32m    678\u001b[0m         \u001b[1;32mif\u001b[0m \u001b[0misfileobj\u001b[0m\u001b[1;33m(\u001b[0m\u001b[0mfp\u001b[0m\u001b[1;33m)\u001b[0m\u001b[1;33m:\u001b[0m\u001b[1;33m\u001b[0m\u001b[1;33m\u001b[0m\u001b[0m\n",
      "\u001b[1;31mOverflowError\u001b[0m: cannot serialize a bytes object larger than 4 GiB"
     ]
    }
   ],
   "source": [
    "from PIL import Image\n",
    "import os, glob, numpy as np\n",
    "from sklearn.model_selection import train_test_split\n",
    "\n",
    "caltech_dir = \"../data/train/\"\n",
    "categories = [name.split('_')[1] for name in os.listdir(caltech_dir)]\n",
    "nb_classes = len(categories)\n",
    "\n",
    "image_w = 32\n",
    "image_h = 32\n",
    "\n",
    "pixels = image_h * image_w * 3\n",
    "\n",
    "X = []\n",
    "y = []\n",
    "\n",
    "for idx, cat in enumerate(os.listdir(caltech_dir)):\n",
    "    \n",
    "    #one-hot 돌리기.\n",
    "    label = [0 for i in range(nb_classes)]\n",
    "    label[idx] = 1\n",
    "\n",
    "    image_dir = caltech_dir + \"/\" + cat\n",
    "    files = glob.glob(image_dir+\"/*.jpg\")\n",
    "    print(cat, \" 파일 길이 : \", len(files))\n",
    "    for i, f in enumerate(files):\n",
    "        img = Image.open(f)\n",
    "        img = img.convert(\"RGB\")\n",
    "        img = img.resize((image_w, image_h))\n",
    "        data = np.asarray(img) / 255.0\n",
    "\n",
    "        X.append(data)\n",
    "        y.append(label)\n",
    "\n",
    "        if i % 700 == 0:\n",
    "            print(cat, \" : \", f)\n",
    "\n",
    "X = np.array(X)\n",
    "y = np.array(y)\n",
    "\n",
    "\n",
    "X_train, X_test, y_train, y_test = train_test_split(X, y)\n",
    "xy = (X_train, X_test, y_train, y_test)\n",
    "np.save(\"../numpy_data/multi_image_data.npy\", xy)\n",
    "\n",
    "print(\"ok\", len(y))"
   ]
  },
  {
   "cell_type": "code",
   "execution_count": 6,
   "metadata": {},
   "outputs": [
    {
     "output_type": "execute_result",
     "data": {
      "text/plain": "(145800, 32, 32, 3)"
     },
     "metadata": {},
     "execution_count": 6
    }
   ],
   "source": [
    "X_train.shape"
   ]
  },
  {
   "cell_type": "code",
   "execution_count": 32,
   "metadata": {},
   "outputs": [],
   "source": [
    "import pickle\n",
    "\n",
    "xy = (X_train, X_test, y_train, y_test)\n",
    "with open(\"../numpy_data/multi_image_data.npy\",'wb') as f:\n",
    "    pickle.dump(xy,f,pickle.HIGHEST_PROTOCOL)\n",
    "\n",
    "# np.save(\"./numpy_data/multi_image_data.npy\",)"
   ]
  },
  {
   "cell_type": "code",
   "execution_count": 13,
   "metadata": {
    "tags": [
     "outputPrepend"
    ]
   },
   "outputs": [],
   "source": [
    "import os\n",
    "direc = '../data/train/'\n",
    "\n",
    "for c in os.listdir(direc):\n",
    "    for idx,f in enumerate(os.listdir(direc+c)):\n",
    "        if idx<2400:\n",
    "            continue\n",
    "        os.remove(direc+c+'/'+f)\n"
   ]
  },
  {
   "cell_type": "code",
   "execution_count": null,
   "metadata": {},
   "outputs": [],
   "source": [
    "import os\n",
    "direc = '../data/validation/'\n",
    "\n",
    "for c in os.listdir(direc):\n",
    "    for idx,f in enumerate(os.listdir(direc+c)):\n",
    "        if idx<400:\n",
    "            continue\n",
    "        os.remove(direc+c+'/'+f)\n"
   ]
  },
  {
   "cell_type": "code",
   "execution_count": 1,
   "metadata": {},
   "outputs": [
    {
     "output_type": "stream",
     "name": "stderr",
     "text": "Using TensorFlow backend.\n(145800, 32, 32, 3)\n(32, 32, 3)\n"
    }
   ],
   "source": [
    "import os, glob, numpy as np\n",
    "from keras.models import Sequential\n",
    "from keras.layers import Conv2D, MaxPooling2D, Dense, Flatten, Dropout\n",
    "from keras.callbacks import EarlyStopping, ModelCheckpoint\n",
    "import keras.backend.tensorflow_backend as K\n",
    "\n",
    "X_train, X_test, y_train, y_test = np.load('../numpy_data/multi_image_data.npy', allow_pickle=True)\n",
    "print(X_train.shape)\n",
    "print(X_train[0].shape)"
   ]
  },
  {
   "cell_type": "code",
   "execution_count": 9,
   "metadata": {},
   "outputs": [
    {
     "output_type": "error",
     "ename": "OSError",
     "evalue": "Failed to interpret file '../numpy_data/multi_image_data.npy' as a pickle",
     "traceback": [
      "\u001b[1;31m---------------------------------------------------------------------------\u001b[0m",
      "\u001b[1;31mEOFError\u001b[0m                                  Traceback (most recent call last)",
      "\u001b[1;32mC:\\Program Files\\Python37\\lib\\site-packages\\numpy\\lib\\npyio.py\u001b[0m in \u001b[0;36mload\u001b[1;34m(file, mmap_mode, allow_pickle, fix_imports, encoding)\u001b[0m\n\u001b[0;32m    459\u001b[0m             \u001b[1;32mtry\u001b[0m\u001b[1;33m:\u001b[0m\u001b[1;33m\u001b[0m\u001b[1;33m\u001b[0m\u001b[0m\n\u001b[1;32m--> 460\u001b[1;33m                 \u001b[1;32mreturn\u001b[0m \u001b[0mpickle\u001b[0m\u001b[1;33m.\u001b[0m\u001b[0mload\u001b[0m\u001b[1;33m(\u001b[0m\u001b[0mfid\u001b[0m\u001b[1;33m,\u001b[0m \u001b[1;33m**\u001b[0m\u001b[0mpickle_kwargs\u001b[0m\u001b[1;33m)\u001b[0m\u001b[1;33m\u001b[0m\u001b[1;33m\u001b[0m\u001b[0m\n\u001b[0m\u001b[0;32m    461\u001b[0m             \u001b[1;32mexcept\u001b[0m \u001b[0mException\u001b[0m\u001b[1;33m:\u001b[0m\u001b[1;33m\u001b[0m\u001b[1;33m\u001b[0m\u001b[0m\n",
      "\u001b[1;31mEOFError\u001b[0m: Ran out of input",
      "\nDuring handling of the above exception, another exception occurred:\n",
      "\u001b[1;31mOSError\u001b[0m                                   Traceback (most recent call last)",
      "\u001b[1;32m<ipython-input-9-8cd12dbffdb8>\u001b[0m in \u001b[0;36m<module>\u001b[1;34m\u001b[0m\n\u001b[0;32m      1\u001b[0m \u001b[1;32mimport\u001b[0m \u001b[0mnumpy\u001b[0m \u001b[1;32mas\u001b[0m \u001b[0mnp\u001b[0m\u001b[1;33m\u001b[0m\u001b[1;33m\u001b[0m\u001b[0m\n\u001b[1;32m----> 2\u001b[1;33m \u001b[0mX_train\u001b[0m\u001b[1;33m,\u001b[0m \u001b[0mX_test\u001b[0m\u001b[1;33m,\u001b[0m \u001b[0my_train\u001b[0m\u001b[1;33m,\u001b[0m \u001b[0my_test\u001b[0m \u001b[1;33m=\u001b[0m \u001b[0mnp\u001b[0m\u001b[1;33m.\u001b[0m\u001b[0mload\u001b[0m\u001b[1;33m(\u001b[0m\u001b[1;34m'../numpy_data/multi_image_data.npy'\u001b[0m\u001b[1;33m,\u001b[0m \u001b[0mallow_pickle\u001b[0m\u001b[1;33m=\u001b[0m\u001b[1;32mTrue\u001b[0m\u001b[1;33m)\u001b[0m\u001b[1;33m\u001b[0m\u001b[1;33m\u001b[0m\u001b[0m\n\u001b[0m",
      "\u001b[1;32mC:\\Program Files\\Python37\\lib\\site-packages\\numpy\\lib\\npyio.py\u001b[0m in \u001b[0;36mload\u001b[1;34m(file, mmap_mode, allow_pickle, fix_imports, encoding)\u001b[0m\n\u001b[0;32m    461\u001b[0m             \u001b[1;32mexcept\u001b[0m \u001b[0mException\u001b[0m\u001b[1;33m:\u001b[0m\u001b[1;33m\u001b[0m\u001b[1;33m\u001b[0m\u001b[0m\n\u001b[0;32m    462\u001b[0m                 raise IOError(\n\u001b[1;32m--> 463\u001b[1;33m                     \"Failed to interpret file %s as a pickle\" % repr(file))\n\u001b[0m\u001b[0;32m    464\u001b[0m     \u001b[1;32mfinally\u001b[0m\u001b[1;33m:\u001b[0m\u001b[1;33m\u001b[0m\u001b[1;33m\u001b[0m\u001b[0m\n\u001b[0;32m    465\u001b[0m         \u001b[1;32mif\u001b[0m \u001b[0mown_fid\u001b[0m\u001b[1;33m:\u001b[0m\u001b[1;33m\u001b[0m\u001b[1;33m\u001b[0m\u001b[0m\n",
      "\u001b[1;31mOSError\u001b[0m: Failed to interpret file '../numpy_data/multi_image_data.npy' as a pickle"
     ]
    }
   ],
   "source": [
    "import numpy as np\n",
    "X_train, X_test, y_train, y_test = np.load('../numpy_data/multi_image_data.npy', allow_pickle=True)"
   ]
  },
  {
   "cell_type": "code",
   "execution_count": 33,
   "metadata": {},
   "outputs": [],
   "source": [
    "from PIL import Image\n",
    "import os, glob, numpy as np\n",
    "from sklearn.model_selection import train_test_split\n",
    "\n",
    "caltech_dir = \"../data/train/\"\n",
    "categories = [name.split('_')[1] for name in os.listdir(caltech_dir)]\n",
    "nb_classes = len(categories)"
   ]
  },
  {
   "cell_type": "code",
   "execution_count": 38,
   "metadata": {},
   "outputs": [],
   "source": [
    "with K.tf_ops.device('/device:GPU:0'):\n",
    "    model = Sequential()\n",
    "    model.add(Conv2D(64, (3,3), padding=\"same\", input_shape=X_train.shape[1:], activation='relu'))\n",
    "    model.add(MaxPooling2D(pool_size=(2,2)))\n",
    "    model.add(Dropout(0.25))\n",
    "\n",
    "    model.add(Conv2D(128, (3,3), padding=\"same\", activation='relu'))\n",
    "    model.add(MaxPooling2D(pool_size=(2,2)))\n",
    "    model.add(Dropout(0.25))\n",
    "\n",
    "    model.add(Conv2D(256, (3,3), padding=\"same\", activation='relu'))\n",
    "    model.add(Dropout(0.25))\n",
    "    model.add(Flatten())\n",
    "    model.add(Dense(256, activation='relu'))\n",
    "    model.add(Dropout(0.5))\n",
    "    model.add(Dense(nb_classes, activation='softmax'))\n",
    "    model.compile(loss='categorical_crossentropy', optimizer='nadam', metrics=['accuracy'])\n",
    "    model_dir = '../model'\n",
    "\n",
    "    if not os.path.exists(model_dir):\n",
    "        os.mkdir(model_dir)\n",
    "\n",
    "    model_path = model_dir + '/model2.h5'\n",
    "    checkpoint = ModelCheckpoint(filepath=model_path , monitor='val_loss', verbose=2, save_best_only=True)\n",
    "    early_stopping = EarlyStopping(monitor='val_loss', patience=10)"
   ]
  },
  {
   "cell_type": "code",
   "execution_count": 8,
   "metadata": {},
   "outputs": [
    {
     "output_type": "execute_result",
     "data": {
      "text/plain": "(32, 32, 3)"
     },
     "metadata": {},
     "execution_count": 8
    }
   ],
   "source": [
    "X_train.shape[1:]"
   ]
  },
  {
   "cell_type": "code",
   "execution_count": 39,
   "metadata": {},
   "outputs": [
    {
     "output_type": "stream",
     "name": "stdout",
     "text": "Train on 238728 samples, validate on 79576 samples\nEpoch 1/50\n238728/238728 [==============================] - 292s 1ms/step - loss: 3.9829 - accuracy: 0.1090 - val_loss: 3.0503 - val_accuracy: 0.2915\n\nEpoch 00001: val_loss improved from inf to 3.05027, saving model to ../model/model2.h5\nEpoch 2/50\n238728/238728 [==============================] - 300s 1ms/step - loss: 2.7413 - accuracy: 0.3192 - val_loss: 2.0921 - val_accuracy: 0.4728\n\nEpoch 00002: val_loss improved from 3.05027 to 2.09214, saving model to ../model/model2.h5\nEpoch 3/50\n238728/238728 [==============================] - 291s 1ms/step - loss: 2.1080 - accuracy: 0.4544 - val_loss: 1.6952 - val_accuracy: 0.5707\n\nEpoch 00003: val_loss improved from 2.09214 to 1.69516, saving model to ../model/model2.h5\nEpoch 4/50\n238728/238728 [==============================] - 292s 1ms/step - loss: 1.7378 - accuracy: 0.5370 - val_loss: 1.4169 - val_accuracy: 0.6347\n\nEpoch 00004: val_loss improved from 1.69516 to 1.41692, saving model to ../model/model2.h5\nEpoch 5/50\n238728/238728 [==============================] - 290s 1ms/step - loss: 1.4902 - accuracy: 0.5930 - val_loss: 1.2402 - val_accuracy: 0.6766\n\nEpoch 00005: val_loss improved from 1.41692 to 1.24019, saving model to ../model/model2.h5\nEpoch 6/50\n238728/238728 [==============================] - 289s 1ms/step - loss: 1.3126 - accuracy: 0.6363 - val_loss: 1.1732 - val_accuracy: 0.6901\n\nEpoch 00006: val_loss improved from 1.24019 to 1.17318, saving model to ../model/model2.h5\nEpoch 7/50\n238728/238728 [==============================] - 291s 1ms/step - loss: 1.1715 - accuracy: 0.6690 - val_loss: 1.2010 - val_accuracy: 0.6828\n\nEpoch 00007: val_loss did not improve from 1.17318\nEpoch 8/50\n238728/238728 [==============================] - 289s 1ms/step - loss: 1.0669 - accuracy: 0.6950 - val_loss: 1.0827 - val_accuracy: 0.7115\n\nEpoch 00008: val_loss improved from 1.17318 to 1.08268, saving model to ../model/model2.h5\nEpoch 9/50\n238728/238728 [==============================] - 290s 1ms/step - loss: 0.9791 - accuracy: 0.7170 - val_loss: 0.9262 - val_accuracy: 0.7511\n\nEpoch 00009: val_loss improved from 1.08268 to 0.92620, saving model to ../model/model2.h5\nEpoch 10/50\n238728/238728 [==============================] - 292s 1ms/step - loss: 0.9067 - accuracy: 0.7341 - val_loss: 0.9264 - val_accuracy: 0.7521\n\nEpoch 00010: val_loss did not improve from 0.92620\nEpoch 11/50\n238728/238728 [==============================] - 301s 1ms/step - loss: 0.8517 - accuracy: 0.7484 - val_loss: 0.9106 - val_accuracy: 0.7583\n\nEpoch 00011: val_loss improved from 0.92620 to 0.91057, saving model to ../model/model2.h5\nEpoch 12/50\n238728/238728 [==============================] - 299s 1ms/step - loss: 0.7955 - accuracy: 0.7628 - val_loss: 0.8642 - val_accuracy: 0.7715\n\nEpoch 00012: val_loss improved from 0.91057 to 0.86415, saving model to ../model/model2.h5\nEpoch 13/50\n238728/238728 [==============================] - 299s 1ms/step - loss: 0.7530 - accuracy: 0.7742 - val_loss: 0.9005 - val_accuracy: 0.7635\n\nEpoch 00013: val_loss did not improve from 0.86415\nEpoch 14/50\n238728/238728 [==============================] - 298s 1ms/step - loss: 0.7121 - accuracy: 0.7848 - val_loss: 0.8953 - val_accuracy: 0.7657\n\nEpoch 00014: val_loss did not improve from 0.86415\nEpoch 15/50\n238728/238728 [==============================] - 295s 1ms/step - loss: 0.6758 - accuracy: 0.7944 - val_loss: 0.8676 - val_accuracy: 0.7740\n\nEpoch 00015: val_loss did not improve from 0.86415\nEpoch 16/50\n238728/238728 [==============================] - 297s 1ms/step - loss: 0.6542 - accuracy: 0.8000 - val_loss: 0.8423 - val_accuracy: 0.7817\n\nEpoch 00016: val_loss improved from 0.86415 to 0.84234, saving model to ../model/model2.h5\nEpoch 17/50\n238728/238728 [==============================] - 296s 1ms/step - loss: 0.6246 - accuracy: 0.8083 - val_loss: 0.8315 - val_accuracy: 0.7849\n\nEpoch 00017: val_loss improved from 0.84234 to 0.83153, saving model to ../model/model2.h5\nEpoch 18/50\n238728/238728 [==============================] - 298s 1ms/step - loss: 0.6000 - accuracy: 0.8155 - val_loss: 0.8188 - val_accuracy: 0.7889\n\nEpoch 00018: val_loss improved from 0.83153 to 0.81883, saving model to ../model/model2.h5\nEpoch 19/50\n238728/238728 [==============================] - 311s 1ms/step - loss: 0.5799 - accuracy: 0.8208 - val_loss: 0.8446 - val_accuracy: 0.7868\n\nEpoch 00019: val_loss did not improve from 0.81883\nEpoch 20/50\n238728/238728 [==============================] - 310s 1ms/step - loss: 0.5627 - accuracy: 0.8251 - val_loss: 0.8364 - val_accuracy: 0.7876\n\nEpoch 00020: val_loss did not improve from 0.81883\nEpoch 21/50\n238728/238728 [==============================] - 312s 1ms/step - loss: 0.5415 - accuracy: 0.8316 - val_loss: 0.8564 - val_accuracy: 0.7852\n\nEpoch 00021: val_loss did not improve from 0.81883\nEpoch 22/50\n238728/238728 [==============================] - 313s 1ms/step - loss: 0.5290 - accuracy: 0.8354 - val_loss: 0.8697 - val_accuracy: 0.7877\n\nEpoch 00022: val_loss did not improve from 0.81883\nEpoch 23/50\n238728/238728 [==============================] - 311s 1ms/step - loss: 0.5138 - accuracy: 0.8393 - val_loss: 0.8475 - val_accuracy: 0.7893\n\nEpoch 00023: val_loss did not improve from 0.81883\nEpoch 24/50\n238728/238728 [==============================] - 311s 1ms/step - loss: 0.4973 - accuracy: 0.8437 - val_loss: 0.8686 - val_accuracy: 0.7868\n\nEpoch 00024: val_loss did not improve from 0.81883\nEpoch 25/50\n238728/238728 [==============================] - 310s 1ms/step - loss: 0.4872 - accuracy: 0.8475 - val_loss: 0.8391 - val_accuracy: 0.7932\n\nEpoch 00025: val_loss did not improve from 0.81883\nEpoch 26/50\n238728/238728 [==============================] - 312s 1ms/step - loss: 0.4823 - accuracy: 0.8482 - val_loss: 0.8378 - val_accuracy: 0.7960\n\nEpoch 00026: val_loss did not improve from 0.81883\nEpoch 27/50\n238728/238728 [==============================] - 311s 1ms/step - loss: 0.4657 - accuracy: 0.8536 - val_loss: 0.8889 - val_accuracy: 0.7864\n\nEpoch 00027: val_loss did not improve from 0.81883\nEpoch 28/50\n238728/238728 [==============================] - 313s 1ms/step - loss: 0.4565 - accuracy: 0.8563 - val_loss: 0.8718 - val_accuracy: 0.7918\n\nEpoch 00028: val_loss did not improve from 0.81883\n"
    }
   ],
   "source": [
    "with K.tf_ops.device('/device:GPU:0'):\n",
    "    history = model.fit(X_train, y_train, batch_size=512, epochs=50, validation_data=(X_test, y_test),validation_split=0.2, callbacks=[checkpoint, early_stopping])"
   ]
  },
  {
   "cell_type": "code",
   "execution_count": 35,
   "metadata": {},
   "outputs": [],
   "source": [
    "model.compile(loss='categorical_crossentropy', optimizer='adam', metrics=['accuracy'])\n",
    "model_dir = '../model'\n",
    "\n",
    "if not os.path.exists(model_dir):\n",
    "    os.mkdir(model_dir)\n",
    "\n",
    "model_path = model_dir + '/model2.h5'\n",
    "checkpoint = ModelCheckpoint(filepath=model_path , monitor='val_loss', verbose=2, save_best_only=True)\n",
    "early_stopping = EarlyStopping(monitor='val_loss', patience=6)"
   ]
  },
  {
   "cell_type": "code",
   "execution_count": 14,
   "metadata": {},
   "outputs": [],
   "source": [
    "import tensorflowjs as tfjs\n",
    "\n",
    "tfjs.converters.save_keras_model(model, \"../model/\")"
   ]
  },
  {
   "cell_type": "code",
   "execution_count": 11,
   "metadata": {},
   "outputs": [
    {
     "output_type": "stream",
     "name": "stdout",
     "text": "Collecting tensorflowjs\n  Using cached tensorflowjs-1.7.4.post1-py3-none-any.whl (57 kB)\nRequirement already satisfied: h5py>=2.8.0 in c:\\users\\kkho5\\appdata\\roaming\\python\\python37\\site-packages (from tensorflowjs) (2.10.0)\nRequirement already satisfied: PyInquirer==1.0.3 in c:\\users\\kkho5\\appdata\\roaming\\python\\python37\\site-packages (from tensorflowjs) (1.0.3)\nRequirement already satisfied: tensorflow-hub==0.7.0 in c:\\users\\kkho5\\appdata\\roaming\\python\\python37\\site-packages (from tensorflowjs) (0.7.0)\nRequirement already satisfied: six>=1.12.0 in c:\\users\\kkho5\\appdata\\roaming\\python\\python37\\site-packages (from tensorflowjs) (1.15.0)\nCollecting tensorflow-cpu>=2.1.0<3\n  Using cached tensorflow_cpu-2.2.0-cp37-cp37m-win_amd64.whl (189.3 MB)\nRequirement already satisfied: numpy>=1.16.4 in c:\\users\\kkho5\\appdata\\roaming\\python\\python37\\site-packages (from tensorflowjs) (1.18.4)\nRequirement already satisfied: regex>=2016.11.21 in c:\\users\\kkho5\\appdata\\roaming\\python\\python37\\site-packages (from PyInquirer==1.0.3->tensorflowjs) (2020.5.14)\nRequirement already satisfied: Pygments>=2.2.0 in c:\\users\\kkho5\\appdata\\roaming\\python\\python37\\site-packages (from PyInquirer==1.0.3->tensorflowjs) (2.6.1)\nRequirement already satisfied: prompt-toolkit==1.0.14 in c:\\users\\kkho5\\appdata\\roaming\\python\\python37\\site-packages (from PyInquirer==1.0.3->tensorflowjs) (1.0.14)\nRequirement already satisfied: protobuf>=3.4.0 in c:\\users\\kkho5\\appdata\\roaming\\python\\python37\\site-packages (from tensorflow-hub==0.7.0->tensorflowjs) (3.12.2)\nRequirement already satisfied: tensorflow-estimator<2.3.0,>=2.2.0 in c:\\users\\kkho5\\appdata\\roaming\\python\\python37\\site-packages (from tensorflow-cpu>=2.1.0<3->tensorflowjs) (2.2.0)\nRequirement already satisfied: grpcio>=1.8.6 in c:\\users\\kkho5\\appdata\\roaming\\python\\python37\\site-packages (from tensorflow-cpu>=2.1.0<3->tensorflowjs) (1.29.0)\nRequirement already satisfied: gast==0.3.3 in c:\\users\\kkho5\\appdata\\roaming\\python\\python37\\site-packages (from tensorflow-cpu>=2.1.0<3->tensorflowjs) (0.3.3)\nRequirement already satisfied: keras-preprocessing>=1.1.0 in c:\\users\\kkho5\\appdata\\roaming\\python\\python37\\site-packages (from tensorflow-cpu>=2.1.0<3->tensorflowjs) (1.1.2)\nRequirement already satisfied: termcolor>=1.1.0 in c:\\users\\kkho5\\appdata\\roaming\\python\\python37\\site-packages (from tensorflow-cpu>=2.1.0<3->tensorflowjs) (1.1.0)\nRequirement already satisfied: wrapt>=1.11.1 in c:\\users\\kkho5\\appdata\\roaming\\python\\python37\\site-packages (from tensorflow-cpu>=2.1.0<3->tensorflowjs) (1.12.1)\nRequirement already satisfied: astunparse==1.6.3 in c:\\users\\kkho5\\appdata\\roaming\\python\\python37\\site-packages (from tensorflow-cpu>=2.1.0<3->tensorflowjs) (1.6.3)\nRequirement already satisfied: tensorboard<2.3.0,>=2.2.0 in c:\\users\\kkho5\\appdata\\roaming\\python\\python37\\site-packages (from tensorflow-cpu>=2.1.0<3->tensorflowjs) (2.2.2)\nRequirement already satisfied: absl-py>=0.7.0 in c:\\users\\kkho5\\appdata\\roaming\\python\\python37\\site-packages (from tensorflow-cpu>=2.1.0<3->tensorflowjs) (0.9.0)\nRequirement already satisfied: google-pasta>=0.1.8 in c:\\users\\kkho5\\appdata\\roaming\\python\\python37\\site-packages (from tensorflow-cpu>=2.1.0<3->tensorflowjs) (0.2.0)\nRequirement already satisfied: wheel>=0.26; python_version >= \"3\" in c:\\users\\kkho5\\appdata\\roaming\\python\\python37\\site-packages (from tensorflow-cpu>=2.1.0<3->tensorflowjs) (0.34.2)\nRequirement already satisfied: scipy==1.4.1; python_version >= \"3\" in c:\\users\\kkho5\\appdata\\roaming\\python\\python37\\site-packages (from tensorflow-cpu>=2.1.0<3->tensorflowjs) (1.4.1)\nRequirement already satisfied: opt-einsum>=2.3.2 in c:\\users\\kkho5\\appdata\\roaming\\python\\python37\\site-packages (from tensorflow-cpu>=2.1.0<3->tensorflowjs) (3.2.1)\nRequirement already satisfied: wcwidth in c:\\users\\kkho5\\appdata\\roaming\\python\\python37\\site-packages (from prompt-toolkit==1.0.14->PyInquirer==1.0.3->tensorflowjs) (0.1.9)\nRequirement already satisfied: setuptools in c:\\users\\kkho5\\appdata\\roaming\\python\\python37\\site-packages (from protobuf>=3.4.0->tensorflow-hub==0.7.0->tensorflowjs) (47.1.1)\nRequirement already satisfied: requests<3,>=2.21.0 in c:\\users\\kkho5\\appdata\\roaming\\python\\python37\\site-packages (from tensorboard<2.3.0,>=2.2.0->tensorflow-cpu>=2.1.0<3->tensorflowjs) (2.23.0)\nRequirement already satisfied: tensorboard-plugin-wit>=1.6.0 in c:\\users\\kkho5\\appdata\\roaming\\python\\python37\\site-packages (from tensorboard<2.3.0,>=2.2.0->tensorflow-cpu>=2.1.0<3->tensorflowjs) (1.6.0.post3)\nRequirement already satisfied: werkzeug>=0.11.15 in c:\\users\\kkho5\\appdata\\roaming\\python\\python37\\site-packages (from tensorboard<2.3.0,>=2.2.0->tensorflow-cpu>=2.1.0<3->tensorflowjs) (1.0.1)\nRequirement already satisfied: google-auth<2,>=1.6.3 in c:\\users\\kkho5\\appdata\\roaming\\python\\python37\\site-packages (from tensorboard<2.3.0,>=2.2.0->tensorflow-cpu>=2.1.0<3->tensorflowjs) (1.16.0)\nRequirement already satisfied: markdown>=2.6.8 in c:\\users\\kkho5\\appdata\\roaming\\python\\python37\\site-packages (from tensorboard<2.3.0,>=2.2.0->tensorflow-cpu>=2.1.0<3->tensorflowjs) (3.2.2)\nRequirement already satisfied: google-auth-oauthlib<0.5,>=0.4.1 in c:\\users\\kkho5\\appdata\\roaming\\python\\python37\\site-packages (from tensorboard<2.3.0,>=2.2.0->tensorflow-cpu>=2.1.0<3->tensorflowjs) (0.4.1)\nRequirement already satisfied: idna<3,>=2.5 in c:\\users\\kkho5\\appdata\\roaming\\python\\python37\\site-packages (from requests<3,>=2.21.0->tensorboard<2.3.0,>=2.2.0->tensorflow-cpu>=2.1.0<3->tensorflowjs) (2.9)\nRequirement already satisfied: chardet<4,>=3.0.2 in c:\\users\\kkho5\\appdata\\roaming\\python\\python37\\site-packages (from requests<3,>=2.21.0->tensorboard<2.3.0,>=2.2.0->tensorflow-cpu>=2.1.0<3->tensorflowjs) (3.0.4)\nRequirement already satisfied: certifi>=2017.4.17 in c:\\users\\kkho5\\appdata\\roaming\\python\\python37\\site-packages (from requests<3,>=2.21.0->tensorboard<2.3.0,>=2.2.0->tensorflow-cpu>=2.1.0<3->tensorflowjs) (2020.4.5.1)\nRequirement already satisfied: urllib3!=1.25.0,!=1.25.1,<1.26,>=1.21.1 in c:\\users\\kkho5\\appdata\\roaming\\python\\python37\\site-packages (from requests<3,>=2.21.0->tensorboard<2.3.0,>=2.2.0->tensorflow-cpu>=2.1.0<3->tensorflowjs) (1.25.9)\nRequirement already satisfied: cachetools<5.0,>=2.0.0 in c:\\users\\kkho5\\appdata\\roaming\\python\\python37\\site-packages (from google-auth<2,>=1.6.3->tensorboard<2.3.0,>=2.2.0->tensorflow-cpu>=2.1.0<3->tensorflowjs) (4.1.0)\nRequirement already satisfied: pyasn1-modules>=0.2.1 in c:\\users\\kkho5\\appdata\\roaming\\python\\python37\\site-packages (from google-auth<2,>=1.6.3->tensorboard<2.3.0,>=2.2.0->tensorflow-cpu>=2.1.0<3->tensorflowjs) (0.2.8)\nRequirement already satisfied: rsa<4.1,>=3.1.4 in c:\\users\\kkho5\\appdata\\roaming\\python\\python37\\site-packages (from google-auth<2,>=1.6.3->tensorboard<2.3.0,>=2.2.0->tensorflow-cpu>=2.1.0<3->tensorflowjs) (4.0)\nRequirement already satisfied: importlib-metadata; python_version < \"3.8\" in c:\\users\\kkho5\\appdata\\roaming\\python\\python37\\site-packages (from markdown>=2.6.8->tensorboard<2.3.0,>=2.2.0->tensorflow-cpu>=2.1.0<3->tensorflowjs) (1.6.0)\nRequirement already satisfied: requests-oauthlib>=0.7.0 in c:\\users\\kkho5\\appdata\\roaming\\python\\python37\\site-packages (from google-auth-oauthlib<0.5,>=0.4.1->tensorboard<2.3.0,>=2.2.0->tensorflow-cpu>=2.1.0<3->tensorflowjs) (1.3.0)\nRequirement already satisfied: pyasn1<0.5.0,>=0.4.6 in c:\\users\\kkho5\\appdata\\roaming\\python\\python37\\site-packages (from pyasn1-modules>=0.2.1->google-auth<2,>=1.6.3->tensorboard<2.3.0,>=2.2.0->tensorflow-cpu>=2.1.0<3->tensorflowjs) (0.4.8)\nRequirement already satisfied: zipp>=0.5 in c:\\users\\kkho5\\appdata\\roaming\\python\\python37\\site-packages (from importlib-metadata; python_version < \"3.8\"->markdown>=2.6.8->tensorboard<2.3.0,>=2.2.0->tensorflow-cpu>=2.1.0<3->tensorflowjs) (3.1.0)\nRequirement already satisfied: oauthlib>=3.0.0 in c:\\users\\kkho5\\appdata\\roaming\\python\\python37\\site-packages (from requests-oauthlib>=0.7.0->google-auth-oauthlib<0.5,>=0.4.1->tensorboard<2.3.0,>=2.2.0->tensorflow-cpu>=2.1.0<3->tensorflowjs) (3.1.0)\nInstalling collected packages: tensorflow-cpu, tensorflowjs\nSuccessfully installed tensorflow-cpu-2.2.0 tensorflowjs-1.7.4.post1\n"
    }
   ],
   "source": [
    "!pip install tensorflowjs"
   ]
  },
  {
   "cell_type": "code",
   "execution_count": 22,
   "metadata": {},
   "outputs": [],
   "source": [
    "import os\n",
    "import json\n",
    "\n",
    "os.listdir('../data/train')\n",
    "datas = {}\n",
    "for idx, data in enumerate(os.listdir('../data/train')):\n",
    "    datas[idx] = data\n",
    "\n",
    "with open(\"classes.json\",'w') as f:\n",
    "    json.dump(datas,f)"
   ]
  },
  {
   "cell_type": "code",
   "execution_count": 23,
   "metadata": {},
   "outputs": [],
   "source": [
    "import tensorflowjs as tfjs\n",
    "\n",
    "tfjs.converters.save_keras_model(model, \"C:\\\\Users\\\\kkho5\\\\Desktop\\\\project\\\\SimilarCeleb\\\\js\")"
   ]
  },
  {
   "cell_type": "code",
   "execution_count": null,
   "metadata": {},
   "outputs": [],
   "source": []
  },
  {
   "cell_type": "code",
   "execution_count": null,
   "metadata": {},
   "outputs": [],
   "source": []
  },
  {
   "cell_type": "code",
   "execution_count": null,
   "metadata": {},
   "outputs": [],
   "source": []
  },
  {
   "cell_type": "code",
   "execution_count": 14,
   "metadata": {},
   "outputs": [],
   "source": [
    "model = Sequential()\n",
    "model.add(Conv2D(64, (3,3), padding=\"same\", input_shape=X_train.shape[1:], activation='relu'))\n",
    "model.add(MaxPooling2D(pool_size=(2,2)))\n",
    "model.add(Dropout(0.25))\n",
    "\n",
    "model.add(Conv2D(128, (3,3), activation='relu'))\n",
    "model.add(MaxPooling2D(pool_size=(2,2)))\n",
    "model.add(Dropout(0.25))\n",
    "\n",
    "model.add(Conv2D(256, (3,3), activation='relu'))\n",
    "model.add(MaxPooling2D(pool_size=(2,2)))\n",
    "model.add(Dropout(0.25))\n",
    "\n",
    "model.add(Flatten())\n",
    "model.add(Dense(512, activation='relu'))\n",
    "model.add(Dropout(0.5))\n",
    "model.add(Dense(nb_classes, activation='softmax'))\n",
    "\n",
    "model.compile(loss='categorical_crossentropy', optimizer='adam', metrics=['accuracy'])\n",
    "model_dir = '../model'\n",
    "\n",
    "if not os.path.exists(model_dir):\n",
    "    os.mkdir(model_dir)\n",
    "\n",
    "model_path = model_dir + '/multi_img_classification.model'\n",
    "checkpoint = ModelCheckpoint(filepath=model_path , monitor='val_loss', verbose=1, save_best_only=True)\n",
    "early_stopping = EarlyStopping(monitor='val_loss', patience=6)"
   ]
  },
  {
   "cell_type": "code",
   "execution_count": 15,
   "metadata": {},
   "outputs": [
    {
     "output_type": "error",
     "ename": "NameError",
     "evalue": "name 'K' is not defined",
     "traceback": [
      "\u001b[1;31m---------------------------------------------------------------------------\u001b[0m",
      "\u001b[1;31mNameError\u001b[0m                                 Traceback (most recent call last)",
      "\u001b[1;32m<ipython-input-15-63997c123b69>\u001b[0m in \u001b[0;36m<module>\u001b[1;34m\u001b[0m\n\u001b[1;32m----> 1\u001b[1;33m \u001b[1;32mwith\u001b[0m \u001b[0mK\u001b[0m\u001b[1;33m.\u001b[0m\u001b[0mtf_ops\u001b[0m\u001b[1;33m.\u001b[0m\u001b[0mdevice\u001b[0m\u001b[1;33m(\u001b[0m\u001b[1;34m'/device:GPU:0'\u001b[0m\u001b[1;33m)\u001b[0m\u001b[1;33m:\u001b[0m\u001b[1;33m\u001b[0m\u001b[1;33m\u001b[0m\u001b[0m\n\u001b[0m\u001b[0;32m      2\u001b[0m     \u001b[0mhistory\u001b[0m \u001b[1;33m=\u001b[0m \u001b[0mmodel\u001b[0m\u001b[1;33m.\u001b[0m\u001b[0mfit\u001b[0m\u001b[1;33m(\u001b[0m\u001b[0mX_train\u001b[0m\u001b[1;33m,\u001b[0m \u001b[0my_train\u001b[0m\u001b[1;33m,\u001b[0m \u001b[0mbatch_size\u001b[0m\u001b[1;33m=\u001b[0m\u001b[1;36m256\u001b[0m\u001b[1;33m,\u001b[0m \u001b[0mepochs\u001b[0m\u001b[1;33m=\u001b[0m\u001b[1;36m50\u001b[0m\u001b[1;33m,\u001b[0m \u001b[0mvalidation_data\u001b[0m\u001b[1;33m=\u001b[0m\u001b[1;33m(\u001b[0m\u001b[0mX_test\u001b[0m\u001b[1;33m,\u001b[0m \u001b[0my_test\u001b[0m\u001b[1;33m)\u001b[0m\u001b[1;33m,\u001b[0m\u001b[0mvalidation_split\u001b[0m\u001b[1;33m=\u001b[0m\u001b[1;36m0.2\u001b[0m\u001b[1;33m,\u001b[0m \u001b[0mcallbacks\u001b[0m\u001b[1;33m=\u001b[0m\u001b[1;33m[\u001b[0m\u001b[0mcheckpoint\u001b[0m\u001b[1;33m,\u001b[0m \u001b[0mearly_stopping\u001b[0m\u001b[1;33m]\u001b[0m\u001b[1;33m)\u001b[0m\u001b[1;33m\u001b[0m\u001b[1;33m\u001b[0m\u001b[0m\n",
      "\u001b[1;31mNameError\u001b[0m: name 'K' is not defined"
     ]
    }
   ],
   "source": [
    "with K.tf_ops.device('/device:GPU:0'):\n",
    "    history = model.fit(X_train, y_train, batch_size=256, epochs=50, validation_data=(X_test, y_test),validation_split=0.2, callbacks=[checkpoint, early_stopping])"
   ]
  },
  {
   "cell_type": "code",
   "execution_count": null,
   "metadata": {},
   "outputs": [],
   "source": []
  },
  {
   "cell_type": "code",
   "execution_count": null,
   "metadata": {},
   "outputs": [],
   "source": []
  },
  {
   "cell_type": "code",
   "execution_count": null,
   "metadata": {},
   "outputs": [],
   "source": []
  },
  {
   "cell_type": "code",
   "execution_count": null,
   "metadata": {},
   "outputs": [],
   "source": []
  },
  {
   "cell_type": "code",
   "execution_count": null,
   "metadata": {},
   "outputs": [],
   "source": []
  },
  {
   "cell_type": "code",
   "execution_count": 35,
   "metadata": {},
   "outputs": [
    {
     "output_type": "error",
     "ename": "FileNotFoundError",
     "evalue": "[WinError 3] 지정된 경로를 찾을 수 없습니다: '../train/14/'",
     "traceback": [
      "\u001b[1;31m---------------------------------------------------------------------------\u001b[0m",
      "\u001b[1;31mFileNotFoundError\u001b[0m                         Traceback (most recent call last)",
      "\u001b[1;32m<ipython-input-35-589da1e4cd16>\u001b[0m in \u001b[0;36m<module>\u001b[1;34m\u001b[0m\n\u001b[0;32m     19\u001b[0m \u001b[1;32mfor\u001b[0m \u001b[0midx\u001b[0m \u001b[1;32min\u001b[0m \u001b[0mrange\u001b[0m\u001b[1;33m(\u001b[0m\u001b[1;36m14\u001b[0m\u001b[1;33m,\u001b[0m\u001b[1;36m15\u001b[0m\u001b[1;33m)\u001b[0m\u001b[1;33m:\u001b[0m\u001b[1;33m\u001b[0m\u001b[1;33m\u001b[0m\u001b[0m\n\u001b[0;32m     20\u001b[0m     \u001b[0mcategori\u001b[0m \u001b[1;33m=\u001b[0m \u001b[1;34mf\"../train/{idx}/\"\u001b[0m\u001b[1;33m\u001b[0m\u001b[1;33m\u001b[0m\u001b[0m\n\u001b[1;32m---> 21\u001b[1;33m     \u001b[1;32mfor\u001b[0m \u001b[0mcatimg\u001b[0m \u001b[1;32min\u001b[0m \u001b[0mos\u001b[0m\u001b[1;33m.\u001b[0m\u001b[0mlistdir\u001b[0m\u001b[1;33m(\u001b[0m\u001b[0mcategori\u001b[0m\u001b[1;33m)\u001b[0m\u001b[1;33m:\u001b[0m\u001b[1;33m\u001b[0m\u001b[1;33m\u001b[0m\u001b[0m\n\u001b[0m\u001b[0;32m     22\u001b[0m         \u001b[1;32mif\u001b[0m \u001b[0mlen\u001b[0m\u001b[1;33m(\u001b[0m\u001b[0mos\u001b[0m\u001b[1;33m.\u001b[0m\u001b[0mlistdir\u001b[0m\u001b[1;33m(\u001b[0m\u001b[0mcategori\u001b[0m\u001b[1;33m)\u001b[0m\u001b[1;33m)\u001b[0m \u001b[1;33m>\u001b[0m \u001b[1;36m7500\u001b[0m\u001b[1;33m:\u001b[0m\u001b[1;33m\u001b[0m\u001b[1;33m\u001b[0m\u001b[0m\n\u001b[0;32m     23\u001b[0m             \u001b[1;32mbreak\u001b[0m\u001b[1;33m\u001b[0m\u001b[1;33m\u001b[0m\u001b[0m\n",
      "\u001b[1;31mFileNotFoundError\u001b[0m: [WinError 3] 지정된 경로를 찾을 수 없습니다: '../train/14/'"
     ]
    }
   ],
   "source": [
    "import numpy as np\n",
    "import os\n",
    "# 랜덤시드 고정시키기\n",
    "np.random.seed(5)\n",
    "\n",
    "from keras.preprocessing.image import ImageDataGenerator, array_to_img, img_to_array, load_img\n",
    "\n",
    "# 데이터셋 불러오기\n",
    "data_aug_gen = ImageDataGenerator(rescale=1./255, \n",
    "                                  rotation_range=10,\n",
    "                                  width_shift_range=0.1,\n",
    "                                  height_shift_range=0.1,\n",
    "                                  shear_range=0.1,\n",
    "                                  zoom_range=0.2,\n",
    "                                  fill_mode='nearest')\n",
    "\n",
    "for idx in range(14,15):\n",
    "    categori = f\"../train/{idx}/\"\n",
    "    for catimg in os.listdir(categori):\n",
    "        if len(os.listdir(categori)) > 7500:\n",
    "            break\n",
    "        img = load_img(categori+\"/\"+catimg)\n",
    "        x = img_to_array(img)\n",
    "        x = x.reshape((1,) + x.shape)\n",
    "\n",
    "        i = 0\n",
    "\n",
    "        # 이 for는 무한으로 반복되기 때문에 우리가 원하는 반복횟수를 지정하여, 지정된 반복횟수가 되면 빠져나오도록 해야합니다.\n",
    "        for batch in data_aug_gen.flow(x, batch_size=1, save_to_dir=categori, save_prefix='tri', save_format='jpg'):\n",
    "            i += 1\n",
    "            if i > 120: \n",
    "                break"
   ]
  },
  {
   "cell_type": "code",
   "execution_count": 18,
   "metadata": {},
   "outputs": [
    {
     "output_type": "stream",
     "name": "stdout",
     "text": "7512\n7392\n7508\n7503\n7509\n7525\n7538\n"
    }
   ],
   "source": []
  },
  {
   "cell_type": "code",
   "execution_count": 25,
   "metadata": {},
   "outputs": [],
   "source": [
    "import os\n",
    "from keras.preprocessing.image import ImageDataGenerator, array_to_img, img_to_array, load_img\n",
    "\n",
    "# 데이터셋 불러오기\n",
    "data_aug_gen = ImageDataGenerator(rescale=1./255, \n",
    "                                  rotation_range=10,\n",
    "                                  width_shift_range=0.1,\n",
    "                                  height_shift_range=0.1,\n",
    "                                  shear_range=0.1,\n",
    "                                  zoom_range=[0.9, 1.1],\n",
    "                                  horizontal_flip=True,\n",
    "                                  vertical_flip=True,\n",
    "                                  fill_mode='nearest')"
   ]
  },
  {
   "cell_type": "code",
   "execution_count": 26,
   "metadata": {},
   "outputs": [],
   "source": [
    "import numpy as np\n",
    "import os\n",
    "# 랜덤시드 고정시키기\n",
    "np.random.seed(5)\n",
    "\n",
    "from keras.preprocessing.image import ImageDataGenerator, array_to_img, img_to_array, load_img\n",
    "\n",
    "root = \"../data/train/\"\n",
    "for idx,name in enumerate(os.listdir(root)):\n",
    "    imgs = root+name\n",
    "    for image in os.listdir(imgs):\n",
    "        if len(os.listdir(imgs)) > 2400:\n",
    "            break\n",
    "        img = load_img(imgs+'/'+image)\n",
    "        x = img_to_array(img)\n",
    "        x = x.reshape((1,) + x.shape)\n",
    "\n",
    "        i = 0\n",
    "\n",
    "        # 이 for는 무한으로 반복되기 때문에 우리가 원하는 반복횟수를 지정하여, 지정된 반복횟수가 되면 빠져나오도록 해야합니다.\n",
    "        for batch in data_aug_gen.flow(x, batch_size=1, save_to_dir=imgs, save_prefix='tri', save_format='jpg'):\n",
    "            i += 1\n",
    "            if i > 120: \n",
    "                break\n",
    "        "
   ]
  },
  {
   "cell_type": "code",
   "execution_count": 30,
   "metadata": {},
   "outputs": [],
   "source": [
    "root = \"../data/train/\"\n",
    "for idx,name in enumerate(os.listdir(root)):\n",
    "    if idx > 80:\n",
    "        os.rename(root+name,root+f'{idx}_'+name)"
   ]
  }
 ],
 "metadata": {
  "language_info": {
   "codemirror_mode": {
    "name": "ipython",
    "version": 3
   },
   "file_extension": ".py",
   "mimetype": "text/x-python",
   "name": "python",
   "nbconvert_exporter": "python",
   "pygments_lexer": "ipython3",
   "version": "3.7.7-final"
  },
  "orig_nbformat": 2,
  "kernelspec": {
   "name": "python37764bitd436dbdcb53543cc8c21936a0ac9d254",
   "display_name": "Python 3.7.7 64-bit"
  }
 },
 "nbformat": 4,
 "nbformat_minor": 2
}