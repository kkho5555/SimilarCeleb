{
 "cells": [
  {
   "cell_type": "code",
   "execution_count": 1,
   "metadata": {},
   "outputs": [
    {
     "output_type": "stream",
     "name": "stderr",
     "text": "Using TensorFlow backend.\n(145800, 32, 32, 3)\n(32, 32, 3)\n"
    }
   ],
   "source": [
    "import os, glob, numpy as np\n",
    "from keras.models import Sequential\n",
    "from keras.layers import Conv2D, MaxPooling2D, Dense, Flatten, Dropout\n",
    "from keras.callbacks import EarlyStopping, ModelCheckpoint\n",
    "import keras.backend.tensorflow_backend as K\n",
    "\n",
    "X_train, X_test, y_train, y_test = np.load('../numpy_data/multi_image_data.npy', allow_pickle=True)\n",
    "print(X_train.shape)\n",
    "print(X_train[0].shape)"
   ]
  },
  {
   "cell_type": "code",
   "execution_count": 40,
   "metadata": {},
   "outputs": [],
   "source": [
    "with K.tf_ops.device('/device:GPU:0'):\n",
    "    #모델생성\n",
    "    model = Sequential()\n",
    "    model.add(Conv2D(64, (3,3), padding=\"same\", input_shape=X_train.shape[1:], activation='relu'))\n",
    "    model.add(MaxPooling2D(pool_size=(2,2)))\n",
    "    model.add(Dropout(0.25))\n",
    "\n",
    "    model.add(Conv2D(128, (3,3), padding=\"same\", activation='relu'))\n",
    "    model.add(MaxPooling2D(pool_size=(2,2)))\n",
    "    model.add(Dropout(0.25))\n",
    "\n",
    "    model.add(Conv2D(256, (3,3), padding=\"same\", activation='relu'))\n",
    "    model.add(Dropout(0.25))\n",
    "    model.add(Flatten())\n",
    "\n",
    "    model.add(Dense(256, activation='relu'))\n",
    "    model.add(Dropout(0.5))\n",
    "    \n",
    "    model.add(Dense(nb_classes, activation='softmax'))\n",
    "    model.compile(loss='categorical_crossentropy', optimizer='nadam', metrics=['accuracy'])\n",
    "    model_dir = '../model'\n",
    "\n",
    "    if not os.path.exists(model_dir):\n",
    "        os.mkdir(model_dir)\n",
    "\n",
    "    model_path = model_dir + '/model2.h5'\n",
    "    checkpoint = ModelCheckpoint(filepath=model_path , monitor='val_loss', verbose=2, save_best_only=True)\n",
    "    early_stopping = EarlyStopping(monitor='val_loss', patience=10)"
   ]
  },
  {
   "cell_type": "code",
   "execution_count": 8,
   "metadata": {},
   "outputs": [
    {
     "output_type": "execute_result",
     "data": {
      "text/plain": "(32, 32, 3)"
     },
     "metadata": {},
     "execution_count": 8
    }
   ],
   "source": [
    "X_train.shape[1:]"
   ]
  },
  {
   "cell_type": "code",
   "execution_count": 41,
   "metadata": {},
   "outputs": [
    {
     "output_type": "stream",
     "name": "stdout",
     "text": "Train on 238728 samples, validate on 79576 samples\nEpoch 1/50\n238728/238728 [==============================] - 418s 2ms/step - loss: 4.3246 - accuracy: 0.0591 - val_loss: 3.6942 - val_accuracy: 0.1545\n\nEpoch 00001: val_loss improved from inf to 3.69424, saving model to ../model/model2.h5\nEpoch 2/50\n238728/238728 [==============================] - 416s 2ms/step - loss: 3.5201 - accuracy: 0.1653 - val_loss: 2.8595 - val_accuracy: 0.3095\n\nEpoch 00002: val_loss improved from 3.69424 to 2.85954, saving model to ../model/model2.h5\nEpoch 3/50\n238728/238728 [==============================] - 415s 2ms/step - loss: 3.1166 - accuracy: 0.2349 - val_loss: 2.5112 - val_accuracy: 0.3829\n\nEpoch 00003: val_loss improved from 2.85954 to 2.51119, saving model to ../model/model2.h5\nEpoch 4/50\n238728/238728 [==============================] - 412s 2ms/step - loss: 2.8704 - accuracy: 0.2811 - val_loss: 2.2568 - val_accuracy: 0.4593\n\nEpoch 00004: val_loss improved from 2.51119 to 2.25682, saving model to ../model/model2.h5\nEpoch 5/50\n238728/238728 [==============================] - 412s 2ms/step - loss: 2.6989 - accuracy: 0.3157 - val_loss: 2.0994 - val_accuracy: 0.4815\n\nEpoch 00005: val_loss improved from 2.25682 to 2.09939, saving model to ../model/model2.h5\nEpoch 6/50\n238728/238728 [==============================] - 414s 2ms/step - loss: 2.5461 - accuracy: 0.3493 - val_loss: 1.8435 - val_accuracy: 0.5516\n\nEpoch 00006: val_loss improved from 2.09939 to 1.84348, saving model to ../model/model2.h5\nEpoch 7/50\n238728/238728 [==============================] - 411s 2ms/step - loss: 2.4346 - accuracy: 0.3751 - val_loss: 1.7113 - val_accuracy: 0.5752\n\nEpoch 00007: val_loss improved from 1.84348 to 1.71125, saving model to ../model/model2.h5\nEpoch 8/50\n238728/238728 [==============================] - 411s 2ms/step - loss: 2.3396 - accuracy: 0.3938 - val_loss: 1.6360 - val_accuracy: 0.5956\n\nEpoch 00008: val_loss improved from 1.71125 to 1.63603, saving model to ../model/model2.h5\nEpoch 9/50\n238728/238728 [==============================] - 411s 2ms/step - loss: 2.2465 - accuracy: 0.4139 - val_loss: 1.5799 - val_accuracy: 0.6053\n\nEpoch 00009: val_loss improved from 1.63603 to 1.57994, saving model to ../model/model2.h5\nEpoch 10/50\n238728/238728 [==============================] - 414s 2ms/step - loss: 2.1785 - accuracy: 0.4295 - val_loss: 1.5213 - val_accuracy: 0.6205\n\nEpoch 00010: val_loss improved from 1.57994 to 1.52133, saving model to ../model/model2.h5\nEpoch 11/50\n238728/238728 [==============================] - 415s 2ms/step - loss: 2.1144 - accuracy: 0.4444 - val_loss: 1.5284 - val_accuracy: 0.6206\n\nEpoch 00011: val_loss did not improve from 1.52133\nEpoch 12/50\n238728/238728 [==============================] - 417s 2ms/step - loss: 2.0660 - accuracy: 0.4534 - val_loss: 1.4944 - val_accuracy: 0.6355\n\nEpoch 00012: val_loss improved from 1.52133 to 1.49440, saving model to ../model/model2.h5\nEpoch 13/50\n238728/238728 [==============================] - 413s 2ms/step - loss: 2.0105 - accuracy: 0.4692 - val_loss: 1.3244 - val_accuracy: 0.6758\n\nEpoch 00013: val_loss improved from 1.49440 to 1.32437, saving model to ../model/model2.h5\nEpoch 14/50\n238728/238728 [==============================] - 414s 2ms/step - loss: 1.9688 - accuracy: 0.4776 - val_loss: 1.3423 - val_accuracy: 0.6697\n\nEpoch 00014: val_loss did not improve from 1.32437\nEpoch 15/50\n238728/238728 [==============================] - 413s 2ms/step - loss: 1.9337 - accuracy: 0.4848 - val_loss: 1.2761 - val_accuracy: 0.6840\n\nEpoch 00015: val_loss improved from 1.32437 to 1.27609, saving model to ../model/model2.h5\nEpoch 16/50\n238728/238728 [==============================] - 416s 2ms/step - loss: 1.8977 - accuracy: 0.4950 - val_loss: 1.2600 - val_accuracy: 0.6866\n\nEpoch 00016: val_loss improved from 1.27609 to 1.26003, saving model to ../model/model2.h5\nEpoch 17/50\n238728/238728 [==============================] - 418s 2ms/step - loss: 1.8670 - accuracy: 0.5009 - val_loss: 1.1850 - val_accuracy: 0.7055\n\nEpoch 00017: val_loss improved from 1.26003 to 1.18497, saving model to ../model/model2.h5\nEpoch 18/50\n238728/238728 [==============================] - 417s 2ms/step - loss: 1.8299 - accuracy: 0.5100 - val_loss: 1.1447 - val_accuracy: 0.7183\n\nEpoch 00018: val_loss improved from 1.18497 to 1.14467, saving model to ../model/model2.h5\nEpoch 19/50\n238728/238728 [==============================] - 416s 2ms/step - loss: 1.7999 - accuracy: 0.5159 - val_loss: 1.2065 - val_accuracy: 0.6958\n\nEpoch 00019: val_loss did not improve from 1.14467\nEpoch 20/50\n238728/238728 [==============================] - 418s 2ms/step - loss: 1.7695 - accuracy: 0.5249 - val_loss: 1.1296 - val_accuracy: 0.7175\n\nEpoch 00020: val_loss improved from 1.14467 to 1.12960, saving model to ../model/model2.h5\nEpoch 21/50\n238728/238728 [==============================] - 427s 2ms/step - loss: 1.7586 - accuracy: 0.5262 - val_loss: 1.0996 - val_accuracy: 0.7269\n\nEpoch 00021: val_loss improved from 1.12960 to 1.09957, saving model to ../model/model2.h5\nEpoch 22/50\n238728/238728 [==============================] - 417s 2ms/step - loss: 1.7286 - accuracy: 0.5337 - val_loss: 1.0714 - val_accuracy: 0.7341\n\nEpoch 00022: val_loss improved from 1.09957 to 1.07139, saving model to ../model/model2.h5\nEpoch 23/50\n238728/238728 [==============================] - 417s 2ms/step - loss: 1.7040 - accuracy: 0.5397 - val_loss: 1.1000 - val_accuracy: 0.7234\n\nEpoch 00023: val_loss did not improve from 1.07139\nEpoch 24/50\n238728/238728 [==============================] - 416s 2ms/step - loss: 1.6879 - accuracy: 0.5419 - val_loss: 1.1023 - val_accuracy: 0.7185\n\nEpoch 00024: val_loss did not improve from 1.07139\nEpoch 25/50\n238728/238728 [==============================] - 422s 2ms/step - loss: 1.6623 - accuracy: 0.5502 - val_loss: 1.0042 - val_accuracy: 0.7474\n\nEpoch 00025: val_loss improved from 1.07139 to 1.00416, saving model to ../model/model2.h5\nEpoch 26/50\n238728/238728 [==============================] - 421s 2ms/step - loss: 1.6471 - accuracy: 0.5533 - val_loss: 1.0172 - val_accuracy: 0.7439\n\nEpoch 00026: val_loss did not improve from 1.00416\nEpoch 27/50\n238728/238728 [==============================] - 420s 2ms/step - loss: 1.6164 - accuracy: 0.5599 - val_loss: 1.0298 - val_accuracy: 0.7405\n\nEpoch 00027: val_loss did not improve from 1.00416\nEpoch 28/50\n238728/238728 [==============================] - 420s 2ms/step - loss: 1.5995 - accuracy: 0.5648 - val_loss: 0.9885 - val_accuracy: 0.7484\n\nEpoch 00028: val_loss improved from 1.00416 to 0.98848, saving model to ../model/model2.h5\nEpoch 29/50\n238728/238728 [==============================] - 417s 2ms/step - loss: 1.5819 - accuracy: 0.5695 - val_loss: 0.9357 - val_accuracy: 0.7642\n\nEpoch 00029: val_loss improved from 0.98848 to 0.93566, saving model to ../model/model2.h5\nEpoch 30/50\n238728/238728 [==============================] - 419s 2ms/step - loss: 1.5668 - accuracy: 0.5719 - val_loss: 0.9430 - val_accuracy: 0.7638\n\nEpoch 00030: val_loss did not improve from 0.93566\nEpoch 31/50\n238728/238728 [==============================] - 418s 2ms/step - loss: 1.5525 - accuracy: 0.5755 - val_loss: 0.9303 - val_accuracy: 0.7679\n\nEpoch 00031: val_loss improved from 0.93566 to 0.93025, saving model to ../model/model2.h5\nEpoch 32/50\n238728/238728 [==============================] - 417s 2ms/step - loss: 1.5421 - accuracy: 0.5783 - val_loss: 0.9361 - val_accuracy: 0.7642\n\nEpoch 00032: val_loss did not improve from 0.93025\nEpoch 33/50\n238728/238728 [==============================] - 410s 2ms/step - loss: 1.5328 - accuracy: 0.5804 - val_loss: 0.9406 - val_accuracy: 0.7549\n\nEpoch 00033: val_loss did not improve from 0.93025\nEpoch 34/50\n238728/238728 [==============================] - 414s 2ms/step - loss: 1.5170 - accuracy: 0.5840 - val_loss: 0.8820 - val_accuracy: 0.7763\n\nEpoch 00034: val_loss improved from 0.93025 to 0.88203, saving model to ../model/model2.h5\nEpoch 35/50\n238728/238728 [==============================] - 421s 2ms/step - loss: 1.5262 - accuracy: 0.5817 - val_loss: 0.8876 - val_accuracy: 0.7742\n\nEpoch 00035: val_loss did not improve from 0.88203\nEpoch 36/50\n238728/238728 [==============================] - 431s 2ms/step - loss: 1.4878 - accuracy: 0.5902 - val_loss: 0.8894 - val_accuracy: 0.7739\n\nEpoch 00036: val_loss did not improve from 0.88203\nEpoch 37/50\n238728/238728 [==============================] - 431s 2ms/step - loss: 1.4744 - accuracy: 0.5952 - val_loss: 0.8826 - val_accuracy: 0.7784\n\nEpoch 00037: val_loss did not improve from 0.88203\nEpoch 38/50\n238728/238728 [==============================] - 430s 2ms/step - loss: 1.4642 - accuracy: 0.5975 - val_loss: 0.8970 - val_accuracy: 0.7704\n\nEpoch 00038: val_loss did not improve from 0.88203\nEpoch 39/50\n238728/238728 [==============================] - 424s 2ms/step - loss: 1.4632 - accuracy: 0.5965 - val_loss: 0.9103 - val_accuracy: 0.7662\n\nEpoch 00039: val_loss did not improve from 0.88203\nEpoch 40/50\n238728/238728 [==============================] - 421s 2ms/step - loss: 1.4441 - accuracy: 0.6031 - val_loss: 0.8958 - val_accuracy: 0.7731\n\nEpoch 00040: val_loss did not improve from 0.88203\nEpoch 41/50\n238728/238728 [==============================] - 422s 2ms/step - loss: 1.4446 - accuracy: 0.6026 - val_loss: 0.8384 - val_accuracy: 0.7881\n\nEpoch 00041: val_loss improved from 0.88203 to 0.83840, saving model to ../model/model2.h5\nEpoch 42/50\n238728/238728 [==============================] - 421s 2ms/step - loss: 1.4314 - accuracy: 0.6049 - val_loss: 0.8517 - val_accuracy: 0.7846\n\nEpoch 00042: val_loss did not improve from 0.83840\nEpoch 43/50\n238728/238728 [==============================] - 421s 2ms/step - loss: 1.4414 - accuracy: 0.6029 - val_loss: 0.8657 - val_accuracy: 0.7818\n\nEpoch 00043: val_loss did not improve from 0.83840\nEpoch 44/50\n238728/238728 [==============================] - 422s 2ms/step - loss: 1.4110 - accuracy: 0.6106 - val_loss: 0.8393 - val_accuracy: 0.7876\n\nEpoch 00044: val_loss did not improve from 0.83840\nEpoch 45/50\n238728/238728 [==============================] - 422s 2ms/step - loss: 1.4112 - accuracy: 0.6104 - val_loss: 0.8537 - val_accuracy: 0.7866\n\nEpoch 00045: val_loss did not improve from 0.83840\nEpoch 46/50\n238728/238728 [==============================] - 421s 2ms/step - loss: 1.3789 - accuracy: 0.6176 - val_loss: 0.8027 - val_accuracy: 0.7980\n\nEpoch 00046: val_loss improved from 0.83840 to 0.80265, saving model to ../model/model2.h5\nEpoch 47/50\n238728/238728 [==============================] - 423s 2ms/step - loss: 1.3728 - accuracy: 0.6201 - val_loss: 0.7798 - val_accuracy: 0.7993\n\nEpoch 00047: val_loss improved from 0.80265 to 0.77980, saving model to ../model/model2.h5\nEpoch 48/50\n238728/238728 [==============================] - 422s 2ms/step - loss: 1.3821 - accuracy: 0.6177 - val_loss: 0.8064 - val_accuracy: 0.7916\n\nEpoch 00048: val_loss did not improve from 0.77980\nEpoch 49/50\n238728/238728 [==============================] - 423s 2ms/step - loss: 1.3635 - accuracy: 0.6229 - val_loss: 0.7685 - val_accuracy: 0.8057\n\nEpoch 00049: val_loss improved from 0.77980 to 0.76848, saving model to ../model/model2.h5\nEpoch 50/50\n238728/238728 [==============================] - 423s 2ms/step - loss: 1.3780 - accuracy: 0.6192 - val_loss: 1.0043 - val_accuracy: 0.7394\n\nEpoch 00050: val_loss did not improve from 0.76848\n"
    }
   ],
   "source": [
    "with K.tf_ops.device('/device:GPU:0'):\n",
    "    history = model.fit(X_train, y_train, batch_size=512, epochs=50, validation_data=(X_test, y_test),validation_split=0.2, callbacks=[checkpoint, early_stopping])"
   ]
  },
  {
   "cell_type": "code",
   "execution_count": 35,
   "metadata": {},
   "outputs": [],
   "source": [
    "model.compile(loss='categorical_crossentropy', optimizer='adam', metrics=['accuracy'])\n",
    "model_dir = '../model'\n",
    "\n",
    "if not os.path.exists(model_dir):\n",
    "    os.mkdir(model_dir)\n",
    "\n",
    "model_path = model_dir + '/model2.h5'\n",
    "checkpoint = ModelCheckpoint(filepath=model_path , monitor='val_loss', verbose=2, save_best_only=True)\n",
    "early_stopping = EarlyStopping(monitor='val_loss', patience=6)"
   ]
  },
  {
   "cell_type": "code",
   "execution_count": 42,
   "metadata": {},
   "outputs": [],
   "source": [
    "import tensorflowjs as tfjs\n",
    "\n",
    "tfjs.converters.save_keras_model(model, \"../model/\")"
   ]
  },
  {
   "cell_type": "code",
   "execution_count": 11,
   "metadata": {},
   "outputs": [
    {
     "output_type": "stream",
     "name": "stdout",
     "text": "Collecting tensorflowjs\n  Using cached tensorflowjs-1.7.4.post1-py3-none-any.whl (57 kB)\nRequirement already satisfied: h5py>=2.8.0 in c:\\users\\kkho5\\appdata\\roaming\\python\\python37\\site-packages (from tensorflowjs) (2.10.0)\nRequirement already satisfied: PyInquirer==1.0.3 in c:\\users\\kkho5\\appdata\\roaming\\python\\python37\\site-packages (from tensorflowjs) (1.0.3)\nRequirement already satisfied: tensorflow-hub==0.7.0 in c:\\users\\kkho5\\appdata\\roaming\\python\\python37\\site-packages (from tensorflowjs) (0.7.0)\nRequirement already satisfied: six>=1.12.0 in c:\\users\\kkho5\\appdata\\roaming\\python\\python37\\site-packages (from tensorflowjs) (1.15.0)\nCollecting tensorflow-cpu>=2.1.0<3\n  Using cached tensorflow_cpu-2.2.0-cp37-cp37m-win_amd64.whl (189.3 MB)\nRequirement already satisfied: numpy>=1.16.4 in c:\\users\\kkho5\\appdata\\roaming\\python\\python37\\site-packages (from tensorflowjs) (1.18.4)\nRequirement already satisfied: regex>=2016.11.21 in c:\\users\\kkho5\\appdata\\roaming\\python\\python37\\site-packages (from PyInquirer==1.0.3->tensorflowjs) (2020.5.14)\nRequirement already satisfied: Pygments>=2.2.0 in c:\\users\\kkho5\\appdata\\roaming\\python\\python37\\site-packages (from PyInquirer==1.0.3->tensorflowjs) (2.6.1)\nRequirement already satisfied: prompt-toolkit==1.0.14 in c:\\users\\kkho5\\appdata\\roaming\\python\\python37\\site-packages (from PyInquirer==1.0.3->tensorflowjs) (1.0.14)\nRequirement already satisfied: protobuf>=3.4.0 in c:\\users\\kkho5\\appdata\\roaming\\python\\python37\\site-packages (from tensorflow-hub==0.7.0->tensorflowjs) (3.12.2)\nRequirement already satisfied: tensorflow-estimator<2.3.0,>=2.2.0 in c:\\users\\kkho5\\appdata\\roaming\\python\\python37\\site-packages (from tensorflow-cpu>=2.1.0<3->tensorflowjs) (2.2.0)\nRequirement already satisfied: grpcio>=1.8.6 in c:\\users\\kkho5\\appdata\\roaming\\python\\python37\\site-packages (from tensorflow-cpu>=2.1.0<3->tensorflowjs) (1.29.0)\nRequirement already satisfied: gast==0.3.3 in c:\\users\\kkho5\\appdata\\roaming\\python\\python37\\site-packages (from tensorflow-cpu>=2.1.0<3->tensorflowjs) (0.3.3)\nRequirement already satisfied: keras-preprocessing>=1.1.0 in c:\\users\\kkho5\\appdata\\roaming\\python\\python37\\site-packages (from tensorflow-cpu>=2.1.0<3->tensorflowjs) (1.1.2)\nRequirement already satisfied: termcolor>=1.1.0 in c:\\users\\kkho5\\appdata\\roaming\\python\\python37\\site-packages (from tensorflow-cpu>=2.1.0<3->tensorflowjs) (1.1.0)\nRequirement already satisfied: wrapt>=1.11.1 in c:\\users\\kkho5\\appdata\\roaming\\python\\python37\\site-packages (from tensorflow-cpu>=2.1.0<3->tensorflowjs) (1.12.1)\nRequirement already satisfied: astunparse==1.6.3 in c:\\users\\kkho5\\appdata\\roaming\\python\\python37\\site-packages (from tensorflow-cpu>=2.1.0<3->tensorflowjs) (1.6.3)\nRequirement already satisfied: tensorboard<2.3.0,>=2.2.0 in c:\\users\\kkho5\\appdata\\roaming\\python\\python37\\site-packages (from tensorflow-cpu>=2.1.0<3->tensorflowjs) (2.2.2)\nRequirement already satisfied: absl-py>=0.7.0 in c:\\users\\kkho5\\appdata\\roaming\\python\\python37\\site-packages (from tensorflow-cpu>=2.1.0<3->tensorflowjs) (0.9.0)\nRequirement already satisfied: google-pasta>=0.1.8 in c:\\users\\kkho5\\appdata\\roaming\\python\\python37\\site-packages (from tensorflow-cpu>=2.1.0<3->tensorflowjs) (0.2.0)\nRequirement already satisfied: wheel>=0.26; python_version >= \"3\" in c:\\users\\kkho5\\appdata\\roaming\\python\\python37\\site-packages (from tensorflow-cpu>=2.1.0<3->tensorflowjs) (0.34.2)\nRequirement already satisfied: scipy==1.4.1; python_version >= \"3\" in c:\\users\\kkho5\\appdata\\roaming\\python\\python37\\site-packages (from tensorflow-cpu>=2.1.0<3->tensorflowjs) (1.4.1)\nRequirement already satisfied: opt-einsum>=2.3.2 in c:\\users\\kkho5\\appdata\\roaming\\python\\python37\\site-packages (from tensorflow-cpu>=2.1.0<3->tensorflowjs) (3.2.1)\nRequirement already satisfied: wcwidth in c:\\users\\kkho5\\appdata\\roaming\\python\\python37\\site-packages (from prompt-toolkit==1.0.14->PyInquirer==1.0.3->tensorflowjs) (0.1.9)\nRequirement already satisfied: setuptools in c:\\users\\kkho5\\appdata\\roaming\\python\\python37\\site-packages (from protobuf>=3.4.0->tensorflow-hub==0.7.0->tensorflowjs) (47.1.1)\nRequirement already satisfied: requests<3,>=2.21.0 in c:\\users\\kkho5\\appdata\\roaming\\python\\python37\\site-packages (from tensorboard<2.3.0,>=2.2.0->tensorflow-cpu>=2.1.0<3->tensorflowjs) (2.23.0)\nRequirement already satisfied: tensorboard-plugin-wit>=1.6.0 in c:\\users\\kkho5\\appdata\\roaming\\python\\python37\\site-packages (from tensorboard<2.3.0,>=2.2.0->tensorflow-cpu>=2.1.0<3->tensorflowjs) (1.6.0.post3)\nRequirement already satisfied: werkzeug>=0.11.15 in c:\\users\\kkho5\\appdata\\roaming\\python\\python37\\site-packages (from tensorboard<2.3.0,>=2.2.0->tensorflow-cpu>=2.1.0<3->tensorflowjs) (1.0.1)\nRequirement already satisfied: google-auth<2,>=1.6.3 in c:\\users\\kkho5\\appdata\\roaming\\python\\python37\\site-packages (from tensorboard<2.3.0,>=2.2.0->tensorflow-cpu>=2.1.0<3->tensorflowjs) (1.16.0)\nRequirement already satisfied: markdown>=2.6.8 in c:\\users\\kkho5\\appdata\\roaming\\python\\python37\\site-packages (from tensorboard<2.3.0,>=2.2.0->tensorflow-cpu>=2.1.0<3->tensorflowjs) (3.2.2)\nRequirement already satisfied: google-auth-oauthlib<0.5,>=0.4.1 in c:\\users\\kkho5\\appdata\\roaming\\python\\python37\\site-packages (from tensorboard<2.3.0,>=2.2.0->tensorflow-cpu>=2.1.0<3->tensorflowjs) (0.4.1)\nRequirement already satisfied: idna<3,>=2.5 in c:\\users\\kkho5\\appdata\\roaming\\python\\python37\\site-packages (from requests<3,>=2.21.0->tensorboard<2.3.0,>=2.2.0->tensorflow-cpu>=2.1.0<3->tensorflowjs) (2.9)\nRequirement already satisfied: chardet<4,>=3.0.2 in c:\\users\\kkho5\\appdata\\roaming\\python\\python37\\site-packages (from requests<3,>=2.21.0->tensorboard<2.3.0,>=2.2.0->tensorflow-cpu>=2.1.0<3->tensorflowjs) (3.0.4)\nRequirement already satisfied: certifi>=2017.4.17 in c:\\users\\kkho5\\appdata\\roaming\\python\\python37\\site-packages (from requests<3,>=2.21.0->tensorboard<2.3.0,>=2.2.0->tensorflow-cpu>=2.1.0<3->tensorflowjs) (2020.4.5.1)\nRequirement already satisfied: urllib3!=1.25.0,!=1.25.1,<1.26,>=1.21.1 in c:\\users\\kkho5\\appdata\\roaming\\python\\python37\\site-packages (from requests<3,>=2.21.0->tensorboard<2.3.0,>=2.2.0->tensorflow-cpu>=2.1.0<3->tensorflowjs) (1.25.9)\nRequirement already satisfied: cachetools<5.0,>=2.0.0 in c:\\users\\kkho5\\appdata\\roaming\\python\\python37\\site-packages (from google-auth<2,>=1.6.3->tensorboard<2.3.0,>=2.2.0->tensorflow-cpu>=2.1.0<3->tensorflowjs) (4.1.0)\nRequirement already satisfied: pyasn1-modules>=0.2.1 in c:\\users\\kkho5\\appdata\\roaming\\python\\python37\\site-packages (from google-auth<2,>=1.6.3->tensorboard<2.3.0,>=2.2.0->tensorflow-cpu>=2.1.0<3->tensorflowjs) (0.2.8)\nRequirement already satisfied: rsa<4.1,>=3.1.4 in c:\\users\\kkho5\\appdata\\roaming\\python\\python37\\site-packages (from google-auth<2,>=1.6.3->tensorboard<2.3.0,>=2.2.0->tensorflow-cpu>=2.1.0<3->tensorflowjs) (4.0)\nRequirement already satisfied: importlib-metadata; python_version < \"3.8\" in c:\\users\\kkho5\\appdata\\roaming\\python\\python37\\site-packages (from markdown>=2.6.8->tensorboard<2.3.0,>=2.2.0->tensorflow-cpu>=2.1.0<3->tensorflowjs) (1.6.0)\nRequirement already satisfied: requests-oauthlib>=0.7.0 in c:\\users\\kkho5\\appdata\\roaming\\python\\python37\\site-packages (from google-auth-oauthlib<0.5,>=0.4.1->tensorboard<2.3.0,>=2.2.0->tensorflow-cpu>=2.1.0<3->tensorflowjs) (1.3.0)\nRequirement already satisfied: pyasn1<0.5.0,>=0.4.6 in c:\\users\\kkho5\\appdata\\roaming\\python\\python37\\site-packages (from pyasn1-modules>=0.2.1->google-auth<2,>=1.6.3->tensorboard<2.3.0,>=2.2.0->tensorflow-cpu>=2.1.0<3->tensorflowjs) (0.4.8)\nRequirement already satisfied: zipp>=0.5 in c:\\users\\kkho5\\appdata\\roaming\\python\\python37\\site-packages (from importlib-metadata; python_version < \"3.8\"->markdown>=2.6.8->tensorboard<2.3.0,>=2.2.0->tensorflow-cpu>=2.1.0<3->tensorflowjs) (3.1.0)\nRequirement already satisfied: oauthlib>=3.0.0 in c:\\users\\kkho5\\appdata\\roaming\\python\\python37\\site-packages (from requests-oauthlib>=0.7.0->google-auth-oauthlib<0.5,>=0.4.1->tensorboard<2.3.0,>=2.2.0->tensorflow-cpu>=2.1.0<3->tensorflowjs) (3.1.0)\nInstalling collected packages: tensorflow-cpu, tensorflowjs\nSuccessfully installed tensorflow-cpu-2.2.0 tensorflowjs-1.7.4.post1\n"
    }
   ],
   "source": [
    "!pip install tensorflowjs"
   ]
  },
  {
   "cell_type": "code",
   "execution_count": 43,
   "metadata": {},
   "outputs": [],
   "source": []
  }
 ],
 "metadata": {
  "language_info": {
   "codemirror_mode": {
    "name": "ipython",
    "version": 3
   },
   "file_extension": ".py",
   "mimetype": "text/x-python",
   "name": "python",
   "nbconvert_exporter": "python",
   "pygments_lexer": "ipython3",
   "version": "3.7.7-final"
  },
  "orig_nbformat": 2,
  "kernelspec": {
   "name": "python37764bitd436dbdcb53543cc8c21936a0ac9d254",
   "display_name": "Python 3.7.7 64-bit"
  }
 },
 "nbformat": 4,
 "nbformat_minor": 2
}